{
 "cells": [
  {
   "cell_type": "markdown",
   "id": "d46f5412-ecfd-4914-9d15-4d8e29989f26",
   "metadata": {},
   "source": [
    "# Loading the Census Income (KDD) Dataset\n",
    "The `.names` file is a convention used by the UCI Machine Learning Repository to provide essential metadata about the datasets they host."
   ]
  },
  {
   "cell_type": "code",
   "execution_count": 2,
   "id": "e8e5a91d-168e-423b-8ad0-b9e82868bb04",
   "metadata": {},
   "outputs": [],
   "source": [
    "import time\n",
    "from PIL import Image, ImageChops\n",
    "\n",
    "# Importing necessary objects for data manipulation and analysis.\n",
    "import pandas as pd\n",
    "import numpy as np\n",
    "import seaborn as sns\n",
    "import matplotlib.pyplot as plt\n",
    "from matplotlib import colormaps\n",
    "\n",
    "from sklearn.metrics import classification_report, balanced_accuracy_score, roc_auc_score, precision_recall_curve, auc, precision_score, recall_score, make_scorer, confusion_matrix, roc_curve\n",
    "from sklearn.model_selection import cross_val_score, StratifiedKFold, GridSearchCV\n",
    "from sklearn.preprocessing import TargetEncoder, LabelEncoder, StandardScaler\n",
    "# from sklearn.preprocessing import OneHotEncoder, OrdinalEncoder\n",
    "from sklearn.compose import ColumnTransformer\n",
    "from sklearn.ensemble import RandomForestClassifier\n",
    "from sklearn.pipeline import Pipeline\n",
    "\n",
    "from imblearn.under_sampling import RandomUnderSampler\n",
    "from imblearn.over_sampling import RandomOverSampler\n",
    "from imblearn.under_sampling import ClusterCentroids\n",
    "from imblearn.over_sampling import SMOTE\n",
    "from imblearn.combine import SMOTEENN\n",
    "from imblearn.pipeline import Pipeline as ImbPipeline\n",
    "\n",
    "# Additional imports for model selection.\n",
    "from sklearn.linear_model import LogisticRegression\n",
    "from sklearn.neighbors import KNeighborsClassifier\n",
    "from sklearn.tree import DecisionTreeClassifier\n",
    "from sklearn.ensemble import AdaBoostClassifier\n",
    "from sklearn.ensemble import ExtraTreesClassifier\n",
    "from sklearn.ensemble import GradientBoostingClassifier\n",
    "\n",
    "# SVC takes too long.\n",
    "# from sklearn.svm import SVC\n"
   ]
  },
  {
   "cell_type": "code",
   "execution_count": 3,
   "id": "4a54b174-efd4-4ca5-a511-5ada4c52a167",
   "metadata": {},
   "outputs": [],
   "source": [
    "# It's easier to extract useful infomration about column names and distinct values from the .names file then to write it out.\n",
    "def parse_names():\n",
    "    \"\"\"\n",
    "    Parses the .names file from the Census-Income (KDD) dataset to extract information about the variables.\n",
    "\n",
    "    Returns:\n",
    "        dict: A dictionary where each key is a variable name, and the value describes the variable as either 'continuous' or 'nominal'.\n",
    "              For nominal variables, it includes the distinct values found in the dataset.\n",
    "    \"\"\"\n",
    "\n",
    "    result = {}\n",
    "\n",
    "    # The .names file doesn't follow a strict format.\n",
    "    with open('../data/census/census-income.names', 'r') as file:\n",
    "        text = file.read()\n",
    "\n",
    "    # Just take lines that define attributes.\n",
    "    etch = list(filter(lambda x: not (x.startswith('|') or x.startswith('-') or x.strip() == ''), text.splitlines()))\n",
    "    for line in etch:\n",
    "        key, value = map(lambda x: x.rstrip(\".\").strip(), line.split(':'))\n",
    "\n",
    "        if value == 'continuous':\n",
    "            result[key] = {\"type\": \"continuous\"}\n",
    "        else:\n",
    "            values = list(map(lambda x: x.strip(), value.split(\",\")))\n",
    "\n",
    "            # Try converting to an integer.\n",
    "            try:\n",
    "                values = list(map(int, values))\n",
    "            except:\n",
    "                pass\n",
    "            result[key] = {\"type\": \"nominal\", \"values\": values}\n",
    "\n",
    "    return result"
   ]
  },
  {
   "cell_type": "code",
   "execution_count": 4,
   "id": "c4401fdd-9c51-4576-ba18-11a6f92cb615",
   "metadata": {},
   "outputs": [
    {
     "name": "stdout",
     "output_type": "stream",
     "text": [
      "Help on function parse_names in module __main__:\n",
      "\n",
      "parse_names()\n",
      "    Parses the .names file from the Census-Income (KDD) dataset to extract information about the variables.\n",
      "    \n",
      "    Returns:\n",
      "        dict: A dictionary where each key is a variable name, and the value describes the variable as either 'continuous' or 'nominal'.\n",
      "              For nominal variables, it includes the distinct values found in the dataset.\n",
      "\n"
     ]
    }
   ],
   "source": [
    "# Invoke the built-in help system.\n",
    "help(parse_names)"
   ]
  },
  {
   "cell_type": "code",
   "execution_count": 5,
   "id": "546ef9db-c336-44a3-bacb-ec62a4ce2a4b",
   "metadata": {},
   "outputs": [],
   "source": [
    "# A 'codebook' is just something to help with understanding a dataset.\n",
    "codebook = parse_names()\n",
    "\n",
    "# The target is the last column in the dataset.\n",
    "column_names = list(codebook.keys()) + [\"income\"]\n",
    "\n",
    "# List of categorical columns.\n",
    "nominal = list(filter(lambda x: codebook[x][\"type\"] == \"nominal\", codebook.keys()))\n",
    "\n",
    "# List of numerical columns.\n",
    "continuous = list(filter(lambda x: codebook[x][\"type\"] == \"continuous\", codebook.keys()))\n",
    "\n",
    "continuous.remove(\"instance weight\")\n",
    "# The 'instance weight' column happens to make the RandomForestClassifier more accurate.\n",
    "# The dataset feels like a distribution problem to me instead of a classification problem so I'd tend to use any columns that help with modeling the distribution.\n",
    "# I don't think there are even any real relationships to learn in this data."
   ]
  },
  {
   "cell_type": "code",
   "execution_count": 6,
   "id": "8338ae15-203e-48e8-b87e-ded08743915b",
   "metadata": {},
   "outputs": [
    {
     "data": {
      "text/plain": [
       "(199523, 42)"
      ]
     },
     "execution_count": 6,
     "metadata": {},
     "output_type": "execute_result"
    }
   ],
   "source": [
    "train_df = pd.read_csv('../data/census/census-income.data', names=column_names, index_col=False)\n",
    "train_df.shape"
   ]
  },
  {
   "cell_type": "code",
   "execution_count": 7,
   "id": "89f34925-f411-43a6-b92c-9e9cb5ef33ba",
   "metadata": {},
   "outputs": [
    {
     "data": {
      "text/plain": [
       "(99762, 42)"
      ]
     },
     "execution_count": 7,
     "metadata": {},
     "output_type": "execute_result"
    }
   ],
   "source": [
    "test_df = pd.read_csv('../data/census/census-income.test', names=column_names, index_col=False)\n",
    "test_df.shape"
   ]
  },
  {
   "cell_type": "markdown",
   "id": "792c5bb2-c13e-4fab-abb5-f0934d02d043",
   "metadata": {},
   "source": [
    "# Exploring the Dataset\n",
    "\n",
    "Pandas preserves spaces that are in the dataset, these spaces aren't important and can be removed while exploring.\n",
    "\n",
    "Missing values show up in the dataset as '?'."
   ]
  },
  {
   "cell_type": "code",
   "execution_count": 9,
   "id": "8297f75b-3b64-4023-b2e0-4a5af2a3635c",
   "metadata": {},
   "outputs": [
    {
     "name": "stdout",
     "output_type": "stream",
     "text": [
      "<class 'pandas.core.frame.DataFrame'>\n",
      "RangeIndex: 199523 entries, 0 to 199522\n",
      "Data columns (total 42 columns):\n",
      " #   Column                                      Non-Null Count   Dtype  \n",
      "---  ------                                      --------------   -----  \n",
      " 0   age                                         199523 non-null  int64  \n",
      " 1   class of worker                             199523 non-null  object \n",
      " 2   detailed industry recode                    199523 non-null  int64  \n",
      " 3   detailed occupation recode                  199523 non-null  int64  \n",
      " 4   education                                   199523 non-null  object \n",
      " 5   wage per hour                               199523 non-null  int64  \n",
      " 6   enroll in edu inst last wk                  199523 non-null  object \n",
      " 7   marital stat                                199523 non-null  object \n",
      " 8   major industry code                         199523 non-null  object \n",
      " 9   major occupation code                       199523 non-null  object \n",
      " 10  race                                        199523 non-null  object \n",
      " 11  hispanic origin                             199523 non-null  object \n",
      " 12  sex                                         199523 non-null  object \n",
      " 13  member of a labor union                     199523 non-null  object \n",
      " 14  reason for unemployment                     199523 non-null  object \n",
      " 15  full or part time employment stat           199523 non-null  object \n",
      " 16  capital gains                               199523 non-null  int64  \n",
      " 17  capital losses                              199523 non-null  int64  \n",
      " 18  dividends from stocks                       199523 non-null  int64  \n",
      " 19  tax filer stat                              199523 non-null  object \n",
      " 20  region of previous residence                199523 non-null  object \n",
      " 21  state of previous residence                 198815 non-null  object \n",
      " 22  detailed household and family stat          199523 non-null  object \n",
      " 23  detailed household summary in household     199523 non-null  object \n",
      " 24  instance weight                             199523 non-null  float64\n",
      " 25  migration code-change in msa                99827 non-null   object \n",
      " 26  migration code-change in reg                99827 non-null   object \n",
      " 27  migration code-move within reg              99827 non-null   object \n",
      " 28  live in this house 1 year ago               199523 non-null  object \n",
      " 29  migration prev res in sunbelt               99827 non-null   object \n",
      " 30  num persons worked for employer             199523 non-null  int64  \n",
      " 31  family members under 18                     199523 non-null  object \n",
      " 32  country of birth father                     192810 non-null  object \n",
      " 33  country of birth mother                     193404 non-null  object \n",
      " 34  country of birth self                       196130 non-null  object \n",
      " 35  citizenship                                 199523 non-null  object \n",
      " 36  own business or self employed               199523 non-null  int64  \n",
      " 37  fill inc questionnaire for veteran's admin  199523 non-null  object \n",
      " 38  veterans benefits                           199523 non-null  int64  \n",
      " 39  weeks worked in year                        199523 non-null  int64  \n",
      " 40  year                                        199523 non-null  int64  \n",
      " 41  income                                      199523 non-null  object \n",
      "dtypes: float64(1), int64(12), object(29)\n",
      "memory usage: 63.9+ MB\n"
     ]
    }
   ],
   "source": [
    "df = train_df.apply(lambda x: x.str.strip() if x.dtype == \"object\" else x)\n",
    "\n",
    "# You can check the column names, missing values, and data type.\n",
    "df.replace('?', None).info()"
   ]
  },
  {
   "cell_type": "code",
   "execution_count": 10,
   "id": "8b136352-621c-404b-857e-f8034bafcf36",
   "metadata": {},
   "outputs": [
    {
     "name": "stdout",
     "output_type": "stream",
     "text": [
      "state of previous residence: {'?'}\n",
      "migration code-change in msa: {'?'}\n",
      "migration code-change in reg: {'?'}\n",
      "migration code-move within reg: {'?'}\n",
      "migration prev res in sunbelt: {'?'}\n",
      "country of birth father: {'?'}\n",
      "country of birth mother: {'?'}\n",
      "country of birth self: {'?'}\n"
     ]
    }
   ],
   "source": [
    "# Find values that aren't listed in .names.\n",
    "def display_unexpected_values(df, codebook):\n",
    "    for key, value in codebook.items():\n",
    "        if value[\"type\"] == \"continuous\":\n",
    "            continue\n",
    "\n",
    "        expected_values = set(value[\"values\"])\n",
    "        actual_values = set(df[key].unique())\n",
    "        unexpected_values = actual_values - expected_values\n",
    "\n",
    "        if unexpected_values:\n",
    "            print(f\"{key}: {unexpected_values}\")\n",
    "\n",
    "# The .names file doens't talk about '?' as a posible value for the nominals which is why it's showing up.\n",
    "display_unexpected_values(df, codebook)"
   ]
  },
  {
   "cell_type": "code",
   "execution_count": 11,
   "id": "948e062b-752d-4881-96d8-906c88d536c6",
   "metadata": {},
   "outputs": [
    {
     "name": "stdout",
     "output_type": "stream",
     "text": [
      "state of previous residence: 0.35% missing\n",
      "migration code-change in msa: 49.97% missing\n",
      "migration code-change in reg: 49.97% missing\n",
      "migration code-move within reg: 49.97% missing\n",
      "migration prev res in sunbelt: 49.97% missing\n",
      "country of birth father: 3.36% missing\n",
      "country of birth mother: 3.07% missing\n",
      "country of birth self: 1.70% missing\n"
     ]
    }
   ],
   "source": [
    "def calculate_missingness(df):\n",
    "    for column in df.select_dtypes(include=['object']):\n",
    "        missing_count = (df[column] == \"?\").sum()\n",
    "        total_count = len(df[column])\n",
    "        missing_percentage = (missing_count / total_count) * 100\n",
    "        if missing_count > 0:\n",
    "            print(f\"{column}: {missing_percentage:.2f}% missing\")\n",
    "\n",
    "# Computes the percentage of missing values represented by '?' for string columns in the dataset.\n",
    "calculate_missingness(df)"
   ]
  },
  {
   "cell_type": "code",
   "execution_count": 12,
   "id": "096678e2-345f-4810-b089-5da1ba8cc125",
   "metadata": {},
   "outputs": [
    {
     "data": {
      "text/html": [
       "<div>\n",
       "<style scoped>\n",
       "    .dataframe tbody tr th:only-of-type {\n",
       "        vertical-align: middle;\n",
       "    }\n",
       "\n",
       "    .dataframe tbody tr th {\n",
       "        vertical-align: top;\n",
       "    }\n",
       "\n",
       "    .dataframe thead th {\n",
       "        text-align: right;\n",
       "    }\n",
       "</style>\n",
       "<table border=\"1\" class=\"dataframe\">\n",
       "  <thead>\n",
       "    <tr style=\"text-align: right;\">\n",
       "      <th></th>\n",
       "      <th>min</th>\n",
       "      <th>max</th>\n",
       "    </tr>\n",
       "  </thead>\n",
       "  <tbody>\n",
       "    <tr>\n",
       "      <th>age</th>\n",
       "      <td>0.0</td>\n",
       "      <td>90.0</td>\n",
       "    </tr>\n",
       "    <tr>\n",
       "      <th>wage per hour</th>\n",
       "      <td>0.0</td>\n",
       "      <td>9999.0</td>\n",
       "    </tr>\n",
       "    <tr>\n",
       "      <th>capital gains</th>\n",
       "      <td>0.0</td>\n",
       "      <td>99999.0</td>\n",
       "    </tr>\n",
       "    <tr>\n",
       "      <th>capital losses</th>\n",
       "      <td>0.0</td>\n",
       "      <td>4608.0</td>\n",
       "    </tr>\n",
       "    <tr>\n",
       "      <th>dividends from stocks</th>\n",
       "      <td>0.0</td>\n",
       "      <td>99999.0</td>\n",
       "    </tr>\n",
       "    <tr>\n",
       "      <th>num persons worked for employer</th>\n",
       "      <td>0.0</td>\n",
       "      <td>6.0</td>\n",
       "    </tr>\n",
       "    <tr>\n",
       "      <th>weeks worked in year</th>\n",
       "      <td>0.0</td>\n",
       "      <td>52.0</td>\n",
       "    </tr>\n",
       "  </tbody>\n",
       "</table>\n",
       "</div>"
      ],
      "text/plain": [
       "                                 min      max\n",
       "age                              0.0     90.0\n",
       "wage per hour                    0.0   9999.0\n",
       "capital gains                    0.0  99999.0\n",
       "capital losses                   0.0   4608.0\n",
       "dividends from stocks            0.0  99999.0\n",
       "num persons worked for employer  0.0      6.0\n",
       "weeks worked in year             0.0     52.0"
      ]
     },
     "execution_count": 12,
     "metadata": {},
     "output_type": "execute_result"
    }
   ],
   "source": [
    "# Some of these values might be capped.\n",
    "df[continuous].describe().T[[\"min\", \"max\"]]\n"
   ]
  },
  {
   "cell_type": "code",
   "execution_count": 13,
   "id": "b45a7080-52a6-46ab-b9f0-d5cd2a590f6d",
   "metadata": {},
   "outputs": [
    {
     "data": {
      "text/plain": [
       "{' - 50000.': 187141, ' 50000+.': 12382}"
      ]
     },
     "execution_count": 13,
     "metadata": {},
     "output_type": "execute_result"
    }
   ],
   "source": [
    "# Looking at the class imbalance.\n",
    "train_df[\"income\"].value_counts().to_dict()"
   ]
  },
  {
   "cell_type": "code",
   "execution_count": 14,
   "id": "5568fb86-d07d-443a-97d5-6d643cc911fb",
   "metadata": {},
   "outputs": [],
   "source": [
    "def value_distribution(series):\n",
    "    # Get value counts.\n",
    "    value_counts = series.value_counts()\n",
    "    \n",
    "    # Calculate percentages.\n",
    "    percentages = (value_counts / len(series)) * 100\n",
    "\n",
    "    return pd.DataFrame({'count': value_counts, 'percentage': percentages})\n",
    "\n",
    "# # Values for each category column seem to have plenty of examples.\n",
    "# nominal = list(filter(lambda x: codebook[x][\"type\"] == \"nominal\", codebook.keys()))\n",
    "# for column in nominal:\n",
    "#     display(value_distribution(df[column]))"
   ]
  },
  {
   "cell_type": "markdown",
   "id": "fda99181-7b28-4347-937d-14feb178d9a2",
   "metadata": {},
   "source": [
    "# Binary Classification Task\n",
    "\n",
    "The **Census-Income (KDD)** dataset is derived from the **1994 and 1995 Current Population Surveys (CPS)** conducted by the U.S. Census Bureau.\n",
    "\n",
    "It includes **199,523 training instances** and **99,762 test instances**.\n",
    "\n",
    "The goal is to predict the income level based on the data provided in each row. Incomes have been binned at the $50K level to create a binary classification problem."
   ]
  },
  {
   "cell_type": "markdown",
   "id": "33b4158a-4f38-458a-a982-af99d8719d7b",
   "metadata": {},
   "source": [
    "## Encoding Categorical Features\n",
    "\n",
    "The way features are encoded for this dataset doesn't seem to make much difference in the modeling.\n",
    "\n",
    "Most columns do not have a natural ordering and should use One-Hot encoding for best performance!\n",
    "\n",
    "The `OneHotEncoder` makes things substantially slower though, and I don't want to suffer through that."
   ]
  },
  {
   "cell_type": "markdown",
   "id": "b2505a6c-e31a-4b2a-8696-504d31cfbe02",
   "metadata": {},
   "source": [
    "### Encoding the Target\n",
    "The traget can be encoded using the `LabelEncoder`."
   ]
  },
  {
   "cell_type": "code",
   "execution_count": 18,
   "id": "9bff22ae-08da-4c91-9344-47440aca30f2",
   "metadata": {},
   "outputs": [
    {
     "data": {
      "text/plain": [
       "array([' - 50000.', ' 50000+.'], dtype=object)"
      ]
     },
     "execution_count": 18,
     "metadata": {},
     "output_type": "execute_result"
    }
   ],
   "source": [
    "# Encode target.\n",
    "label_encoder = LabelEncoder()\n",
    "\n",
    "# You can fit and transform in a single call :)\n",
    "y = label_encoder.fit_transform(train_df[\"income\"])\n",
    "\n",
    "# Transform the test data.\n",
    "y_test = label_encoder.transform(test_df[\"income\"])\n",
    "\n",
    "# The unique values are sorted in lexicographical order.\n",
    "label_encoder.classes_"
   ]
  },
  {
   "cell_type": "markdown",
   "id": "d1db6f6b-b39b-44a5-8874-e383fa8977fb",
   "metadata": {},
   "source": [
    "### Encoding the Features\n",
    "The features can be encoded using `OrdinalEncoder` or `OneHotEncoder`.\n",
    "\n",
    "But, the `OneHotEncoder` creates a bunch of additional columns and a `TargetEncoder` performs well enough."
   ]
  },
  {
   "cell_type": "code",
   "execution_count": 20,
   "id": "b5dfc775-44ba-4e57-9a3c-a8f748d650ea",
   "metadata": {},
   "outputs": [],
   "source": [
    "X = pd.DataFrame()\n",
    "X_test = pd.DataFrame()"
   ]
  },
  {
   "cell_type": "code",
   "execution_count": 21,
   "id": "3c0cdbcd-d4d7-42ae-b7e6-98543c857800",
   "metadata": {},
   "outputs": [],
   "source": [
    "# Encode categorical features.\n",
    "encoder = TargetEncoder()\n",
    "\n",
    "# Encode the training data.\n",
    "X[nominal] = encoder.fit_transform(train_df[nominal].astype('object'), y)  # Uses cross fitting to avoid overfitting.\n",
    "\n",
    "# Encode the testing data.\n",
    "X_test[nominal] = encoder.transform(test_df[nominal].astype('object'))\n"
   ]
  },
  {
   "cell_type": "markdown",
   "id": "9597792d-52ae-4625-b1dd-83f1da41ac7d",
   "metadata": {},
   "source": [
    "## Scaling Features\n",
    "\n",
    "You don't need to scale the categorical columns."
   ]
  },
  {
   "cell_type": "code",
   "execution_count": 23,
   "id": "d25d24a7-3977-4cf7-84d6-18a49e1ed775",
   "metadata": {},
   "outputs": [],
   "source": [
    "# Scale the numerical features.\n",
    "scaler = StandardScaler()\n",
    "\n",
    "# Scale the training data.\n",
    "X[continuous] = scaler.fit_transform(train_df[continuous])\n",
    "\n",
    "# Scale the testing data.\n",
    "X_test[continuous] = scaler.transform(test_df[continuous])\n"
   ]
  },
  {
   "cell_type": "markdown",
   "id": "54127eb7-3716-4ea0-9334-db98cb161153",
   "metadata": {},
   "source": [
    "## Cross Validation\n",
    "\n",
    "You could use cross validation to see how well the model performs for the given encodings."
   ]
  },
  {
   "cell_type": "code",
   "execution_count": 25,
   "id": "72b412ee-7e35-44fa-95a6-ffca86caa49f",
   "metadata": {},
   "outputs": [],
   "source": [
    "# This gets convoluted to avoid data leakage :(\n",
    "X_cv = train_df.drop(columns=[\"income\"], axis=1)\n",
    "X_cv[nominal] = train_df[nominal].astype(\"object\")\n",
    "\n",
    "preprocessor = ColumnTransformer(\n",
    "    transformers = [\n",
    "        ('continous', StandardScaler(), continuous),\n",
    "        ('nominal', TargetEncoder(), nominal)\n",
    "    ]\n",
    ")\n",
    "\n",
    "pipeline = Pipeline(steps=[\n",
    "    ('preprocessor', preprocessor),\n",
    "    ('classifier', RandomForestClassifier(random_state=42))\n",
    "])\n",
    "\n",
    "# Use StratifiedKFold to maintain class distribution.\n",
    "splitter = StratifiedKFold(n_splits=5, shuffle=True, random_state=42)"
   ]
  },
  {
   "cell_type": "code",
   "execution_count": 26,
   "id": "bf098b4a-788b-4043-b8fb-82993cfbee31",
   "metadata": {},
   "outputs": [
    {
     "data": {
      "text/plain": [
       "array([0.95511841, 0.95546924, 0.95514347, 0.95589415, 0.95687149])"
      ]
     },
     "execution_count": 26,
     "metadata": {},
     "output_type": "execute_result"
    }
   ],
   "source": [
    "cross_val_score(pipeline, X_cv, y, cv=splitter)"
   ]
  },
  {
   "cell_type": "markdown",
   "id": "00f87a53-5723-4d54-81fb-fba359c2604d",
   "metadata": {},
   "source": [
    "## Dealing With Class Imbalance\n",
    "\n",
    "Resampling teaches the model to guess the minority class more frequently with worse precision."
   ]
  },
  {
   "cell_type": "code",
   "execution_count": 28,
   "id": "a8fdc728-356d-434c-afa9-d668499e9571",
   "metadata": {},
   "outputs": [],
   "source": [
    "def display_class_imbalance(target):\n",
    "    class_0_count = np.count_nonzero(target == 0)\n",
    "    class_1_count = np.count_nonzero(target == 1)\n",
    "    total_count = len(target)\n",
    "\n",
    "    # Calculate the percentages.\n",
    "    class_0_percentage = (class_0_count / total_count) * 100\n",
    "    class_1_percentage = (class_1_count / total_count) * 100\n",
    "\n",
    "    print(f\"Class 0: {class_0_count} instances, {class_0_percentage}% of the total\")\n",
    "    print(f\"Class 1: {class_1_count} instances, {class_1_percentage}% of the total\")"
   ]
  },
  {
   "cell_type": "code",
   "execution_count": 29,
   "id": "3e31a39e-dfc6-4627-ac72-e78a12bda9fa",
   "metadata": {},
   "outputs": [
    {
     "name": "stdout",
     "output_type": "stream",
     "text": [
      "Class 0: 93576 instances, 93.7992421964275% of the total\n",
      "Class 1: 6186 instances, 6.200757803572503% of the total\n"
     ]
    }
   ],
   "source": [
    "display_class_imbalance(y_test)"
   ]
  },
  {
   "cell_type": "code",
   "execution_count": 30,
   "id": "c45f815e-9a28-4d98-b9e7-ce353f53b7b1",
   "metadata": {},
   "outputs": [],
   "source": [
    "def balanced_accuracy_with_report(y_true, y_predication):\n",
    "    print(\"\\nClassification Report:\\n\", classification_report(y_true, y_predication))\n",
    "    return balanced_accuracy_score(y_true, y_predication)\n",
    "\n",
    "scorer = make_scorer(balanced_accuracy_with_report)"
   ]
  },
  {
   "cell_type": "code",
   "execution_count": 31,
   "id": "f048d116-e92f-4704-a20b-0c44341a4aaf",
   "metadata": {},
   "outputs": [],
   "source": [
    "def create_pipeline(preprocessor, sampler, model):\n",
    "    # Create a pipeline with the provided sampler and model instances.\n",
    "    return ImbPipeline(\n",
    "        steps=[\n",
    "            ('preprocessor', preprocessor),\n",
    "            ('resample', sampler),\n",
    "            ('model', model)\n",
    "        ]\n",
    "    )"
   ]
  },
  {
   "cell_type": "code",
   "execution_count": 32,
   "id": "705d3053-2d89-475f-a0ca-1a7d9a2daae4",
   "metadata": {},
   "outputs": [],
   "source": [
    "def time_cross_val_score(estimator, X, y=None, *, scoring='balanced_accuracy', cv=5):\n",
    "    # Time the cross-validation process.\n",
    "    start_time = time.time()\n",
    "    cv_scores = cross_val_score(estimator, X, y, scoring=scoring, cv=cv)\n",
    "    end_time = time.time()\n",
    "\n",
    "    # Calculate the elapsed time.\n",
    "    elapsed_time = end_time - start_time\n",
    "\n",
    "    try:\n",
    "        model_name = pipeline.named_steps[\"model\"].__class__.__name__\n",
    "        sampler_name = pipeline.named_steps[\"resample\"].__class__.__name__\n",
    "        print(f\"Cross-validation with {model_name} and {sampler_name}: {elapsed_time:.2f} seconds\")\n",
    "    except KeyError:\n",
    "        print(f\"{elapsed_time:.2f} seconds\")\n",
    "\n",
    "    # Return the cross-validation scores.\n",
    "    return cv_scores"
   ]
  },
  {
   "cell_type": "code",
   "execution_count": 33,
   "id": "ad92d831-ad22-4ac1-b0ad-e56ce8802f79",
   "metadata": {},
   "outputs": [
    {
     "name": "stdout",
     "output_type": "stream",
     "text": [
      "\n",
      "Classification Report:\n",
      "               precision    recall  f1-score   support\n",
      "\n",
      "           0       0.97      0.98      0.97     37429\n",
      "           1       0.63      0.52      0.57      2476\n",
      "\n",
      "    accuracy                           0.95     39905\n",
      "   macro avg       0.80      0.75      0.77     39905\n",
      "weighted avg       0.95      0.95      0.95     39905\n",
      "\n",
      "\n",
      "Classification Report:\n",
      "               precision    recall  f1-score   support\n",
      "\n",
      "           0       0.97      0.98      0.97     37428\n",
      "           1       0.65      0.52      0.57      2477\n",
      "\n",
      "    accuracy                           0.95     39905\n",
      "   macro avg       0.81      0.75      0.77     39905\n",
      "weighted avg       0.95      0.95      0.95     39905\n",
      "\n",
      "\n",
      "Classification Report:\n",
      "               precision    recall  f1-score   support\n",
      "\n",
      "           0       0.97      0.98      0.97     37428\n",
      "           1       0.64      0.54      0.59      2477\n",
      "\n",
      "    accuracy                           0.95     39905\n",
      "   macro avg       0.81      0.76      0.78     39905\n",
      "weighted avg       0.95      0.95      0.95     39905\n",
      "\n",
      "\n",
      "Classification Report:\n",
      "               precision    recall  f1-score   support\n",
      "\n",
      "           0       0.97      0.98      0.98     37428\n",
      "           1       0.65      0.52      0.58      2476\n",
      "\n",
      "    accuracy                           0.95     39904\n",
      "   macro avg       0.81      0.75      0.78     39904\n",
      "weighted avg       0.95      0.95      0.95     39904\n",
      "\n",
      "\n",
      "Classification Report:\n",
      "               precision    recall  f1-score   support\n",
      "\n",
      "           0       0.97      0.98      0.97     37428\n",
      "           1       0.64      0.53      0.58      2476\n",
      "\n",
      "    accuracy                           0.95     39904\n",
      "   macro avg       0.81      0.76      0.78     39904\n",
      "weighted avg       0.95      0.95      0.95     39904\n",
      "\n",
      "Cross-validation with RandomForestClassifier and RandomOverSampler: 132.28 seconds\n"
     ]
    },
    {
     "data": {
      "text/plain": [
       "array([0.74995773, 0.74885064, 0.75990376, 0.74972104, 0.75741272])"
      ]
     },
     "execution_count": 33,
     "metadata": {},
     "output_type": "execute_result"
    }
   ],
   "source": [
    "# Random Oversampling 😂\n",
    "# ❌ 💥🤯🔥💣 😈 😈 😈 🐖 🐖 🐖\n",
    "\n",
    "pipeline = create_pipeline(preprocessor, RandomOverSampler(random_state=42), RandomForestClassifier(random_state=42))\n",
    "time_cross_val_score(pipeline, X_cv, y, scoring=scorer, cv=splitter)"
   ]
  },
  {
   "cell_type": "code",
   "execution_count": 34,
   "id": "ced9c121-d270-4423-8e59-1203ff8d0f02",
   "metadata": {},
   "outputs": [
    {
     "name": "stdout",
     "output_type": "stream",
     "text": [
      "\n",
      "Classification Report:\n",
      "               precision    recall  f1-score   support\n",
      "\n",
      "           0       0.99      0.85      0.92     37429\n",
      "           1       0.28      0.89      0.43      2476\n",
      "\n",
      "    accuracy                           0.85     39905\n",
      "   macro avg       0.64      0.87      0.67     39905\n",
      "weighted avg       0.95      0.85      0.89     39905\n",
      "\n",
      "\n",
      "Classification Report:\n",
      "               precision    recall  f1-score   support\n",
      "\n",
      "           0       0.99      0.86      0.92     37428\n",
      "           1       0.29      0.90      0.44      2477\n",
      "\n",
      "    accuracy                           0.86     39905\n",
      "   macro avg       0.64      0.88      0.68     39905\n",
      "weighted avg       0.95      0.86      0.89     39905\n",
      "\n",
      "\n",
      "Classification Report:\n",
      "               precision    recall  f1-score   support\n",
      "\n",
      "           0       0.99      0.85      0.92     37428\n",
      "           1       0.29      0.90      0.44      2477\n",
      "\n",
      "    accuracy                           0.86     39905\n",
      "   macro avg       0.64      0.88      0.68     39905\n",
      "weighted avg       0.95      0.86      0.89     39905\n",
      "\n",
      "\n",
      "Classification Report:\n",
      "               precision    recall  f1-score   support\n",
      "\n",
      "           0       0.99      0.85      0.91     37428\n",
      "           1       0.28      0.90      0.43      2476\n",
      "\n",
      "    accuracy                           0.85     39904\n",
      "   macro avg       0.64      0.87      0.67     39904\n",
      "weighted avg       0.95      0.85      0.88     39904\n",
      "\n",
      "\n",
      "Classification Report:\n",
      "               precision    recall  f1-score   support\n",
      "\n",
      "           0       0.99      0.85      0.92     37428\n",
      "           1       0.28      0.91      0.43      2476\n",
      "\n",
      "    accuracy                           0.85     39904\n",
      "   macro avg       0.64      0.88      0.67     39904\n",
      "weighted avg       0.95      0.85      0.89     39904\n",
      "\n",
      "Cross-validation with RandomForestClassifier and RandomUnderSampler: 14.28 seconds\n"
     ]
    },
    {
     "data": {
      "text/plain": [
       "array([0.86961071, 0.87582244, 0.8771151 , 0.87255269, 0.87714633])"
      ]
     },
     "execution_count": 34,
     "metadata": {},
     "output_type": "execute_result"
    }
   ],
   "source": [
    "# Random Undersampling\n",
    "\n",
    "pipeline = create_pipeline(preprocessor, RandomUnderSampler(random_state=42), RandomForestClassifier(random_state=42))\n",
    "time_cross_val_score(pipeline, X_cv, y, scoring=scorer, cv=splitter)"
   ]
  },
  {
   "cell_type": "code",
   "execution_count": 35,
   "id": "75c81de0-5dac-4a05-ad6a-a0cb71a236b5",
   "metadata": {},
   "outputs": [
    {
     "name": "stdout",
     "output_type": "stream",
     "text": [
      "\n",
      "Classification Report:\n",
      "               precision    recall  f1-score   support\n",
      "\n",
      "           0       0.98      0.80      0.88     37429\n",
      "           1       0.21      0.81      0.34      2476\n",
      "\n",
      "    accuracy                           0.80     39905\n",
      "   macro avg       0.60      0.81      0.61     39905\n",
      "weighted avg       0.94      0.80      0.85     39905\n",
      "\n",
      "\n",
      "Classification Report:\n",
      "               precision    recall  f1-score   support\n",
      "\n",
      "           0       0.98      0.83      0.90     37428\n",
      "           1       0.24      0.79      0.37      2477\n",
      "\n",
      "    accuracy                           0.83     39905\n",
      "   macro avg       0.61      0.81      0.63     39905\n",
      "weighted avg       0.94      0.83      0.87     39905\n",
      "\n",
      "\n",
      "Classification Report:\n",
      "               precision    recall  f1-score   support\n",
      "\n",
      "           0       0.99      0.80      0.88     37428\n",
      "           1       0.21      0.82      0.34      2477\n",
      "\n",
      "    accuracy                           0.80     39905\n",
      "   macro avg       0.60      0.81      0.61     39905\n",
      "weighted avg       0.94      0.80      0.85     39905\n",
      "\n",
      "\n",
      "Classification Report:\n",
      "               precision    recall  f1-score   support\n",
      "\n",
      "           0       0.98      0.87      0.92     37428\n",
      "           1       0.26      0.68      0.38      2476\n",
      "\n",
      "    accuracy                           0.86     39904\n",
      "   macro avg       0.62      0.78      0.65     39904\n",
      "weighted avg       0.93      0.86      0.89     39904\n",
      "\n",
      "\n",
      "Classification Report:\n",
      "               precision    recall  f1-score   support\n",
      "\n",
      "           0       0.99      0.76      0.86     37428\n",
      "           1       0.19      0.85      0.31      2476\n",
      "\n",
      "    accuracy                           0.77     39904\n",
      "   macro avg       0.59      0.81      0.59     39904\n",
      "weighted avg       0.94      0.77      0.83     39904\n",
      "\n",
      "Cross-validation with RandomForestClassifier and ClusterCentroids: 441.51 seconds\n"
     ]
    },
    {
     "data": {
      "text/plain": [
       "array([0.80513806, 0.81341377, 0.80952555, 0.77707454, 0.80554708])"
      ]
     },
     "execution_count": 35,
     "metadata": {},
     "output_type": "execute_result"
    }
   ],
   "source": [
    "# Cluster Centroids\n",
    "\n",
    "pipeline = create_pipeline(preprocessor, ClusterCentroids(random_state=42), RandomForestClassifier(random_state=42))\n",
    "time_cross_val_score(pipeline, X_cv, y, scoring=scorer, cv=splitter)"
   ]
  },
  {
   "cell_type": "code",
   "execution_count": 36,
   "id": "75f1c0ce-6d4c-45eb-af36-45381f8d17f2",
   "metadata": {},
   "outputs": [
    {
     "name": "stdout",
     "output_type": "stream",
     "text": [
      "\n",
      "Classification Report:\n",
      "               precision    recall  f1-score   support\n",
      "\n",
      "           0       1.00      0.54      0.70     37429\n",
      "           1       0.12      0.99      0.22      2476\n",
      "\n",
      "    accuracy                           0.57     39905\n",
      "   macro avg       0.56      0.76      0.46     39905\n",
      "weighted avg       0.94      0.57      0.67     39905\n",
      "\n",
      "\n",
      "Classification Report:\n",
      "               precision    recall  f1-score   support\n",
      "\n",
      "           0       1.00      0.64      0.78     37428\n",
      "           1       0.15      0.97      0.26      2477\n",
      "\n",
      "    accuracy                           0.66     39905\n",
      "   macro avg       0.57      0.81      0.52     39905\n",
      "weighted avg       0.94      0.66      0.75     39905\n",
      "\n",
      "\n",
      "Classification Report:\n",
      "               precision    recall  f1-score   support\n",
      "\n",
      "           0       1.00      0.56      0.72     37428\n",
      "           1       0.13      0.99      0.23      2477\n",
      "\n",
      "    accuracy                           0.58     39905\n",
      "   macro avg       0.56      0.77      0.47     39905\n",
      "weighted avg       0.94      0.58      0.69     39905\n",
      "\n",
      "\n",
      "Classification Report:\n",
      "               precision    recall  f1-score   support\n",
      "\n",
      "           0       1.00      0.60      0.75     37428\n",
      "           1       0.14      0.98      0.25      2476\n",
      "\n",
      "    accuracy                           0.63     39904\n",
      "   macro avg       0.57      0.79      0.50     39904\n",
      "weighted avg       0.94      0.63      0.72     39904\n",
      "\n",
      "\n",
      "Classification Report:\n",
      "               precision    recall  f1-score   support\n",
      "\n",
      "           0       1.00      0.64      0.78     37428\n",
      "           1       0.15      0.97      0.26      2476\n",
      "\n",
      "    accuracy                           0.66     39904\n",
      "   macro avg       0.58      0.81      0.52     39904\n",
      "weighted avg       0.94      0.66      0.75     39904\n",
      "\n",
      "Cross-validation with RandomForestClassifier and SMOTE: 314.67 seconds\n"
     ]
    },
    {
     "data": {
      "text/plain": [
       "array([0.76237407, 0.80726777, 0.77301343, 0.79174773, 0.80913428])"
      ]
     },
     "execution_count": 36,
     "metadata": {},
     "output_type": "execute_result"
    }
   ],
   "source": [
    "# Synthetic Minority Oversampling Technique (SMOTE)\n",
    "\n",
    "pipeline = create_pipeline(preprocessor, SMOTE(random_state=42), RandomForestClassifier(random_state=42))\n",
    "time_cross_val_score(pipeline, X_cv, y, scoring=scorer, cv=splitter)"
   ]
  },
  {
   "cell_type": "code",
   "execution_count": 37,
   "id": "208a9887-2e44-4e0b-b8b5-6be95747d280",
   "metadata": {},
   "outputs": [
    {
     "name": "stdout",
     "output_type": "stream",
     "text": [
      "\n",
      "Classification Report:\n",
      "               precision    recall  f1-score   support\n",
      "\n",
      "           0       1.00      0.59      0.74     37429\n",
      "           1       0.14      0.97      0.24      2476\n",
      "\n",
      "    accuracy                           0.61     39905\n",
      "   macro avg       0.57      0.78      0.49     39905\n",
      "weighted avg       0.94      0.61      0.71     39905\n",
      "\n",
      "\n",
      "Classification Report:\n",
      "               precision    recall  f1-score   support\n",
      "\n",
      "           0       1.00      0.64      0.78     37428\n",
      "           1       0.15      0.97      0.26      2477\n",
      "\n",
      "    accuracy                           0.66     39905\n",
      "   macro avg       0.57      0.81      0.52     39905\n",
      "weighted avg       0.94      0.66      0.75     39905\n",
      "\n",
      "\n",
      "Classification Report:\n",
      "               precision    recall  f1-score   support\n",
      "\n",
      "           0       1.00      0.62      0.76     37428\n",
      "           1       0.14      0.97      0.25      2477\n",
      "\n",
      "    accuracy                           0.64     39905\n",
      "   macro avg       0.57      0.79      0.51     39905\n",
      "weighted avg       0.94      0.64      0.73     39905\n",
      "\n",
      "\n",
      "Classification Report:\n",
      "               precision    recall  f1-score   support\n",
      "\n",
      "           0       1.00      0.65      0.79     37428\n",
      "           1       0.16      0.97      0.27      2476\n",
      "\n",
      "    accuracy                           0.67     39904\n",
      "   macro avg       0.58      0.81      0.53     39904\n",
      "weighted avg       0.94      0.67      0.76     39904\n",
      "\n",
      "\n",
      "Classification Report:\n",
      "               precision    recall  f1-score   support\n",
      "\n",
      "           0       1.00      0.66      0.79     37428\n",
      "           1       0.16      0.97      0.27      2476\n",
      "\n",
      "    accuracy                           0.68     39904\n",
      "   macro avg       0.58      0.81      0.53     39904\n",
      "weighted avg       0.94      0.68      0.76     39904\n",
      "\n",
      "Cross-validation with RandomForestClassifier and SMOTEENN: 501.75 seconds\n"
     ]
    },
    {
     "data": {
      "text/plain": [
       "array([0.78004884, 0.80531452, 0.79494343, 0.811382  , 0.81389193])"
      ]
     },
     "execution_count": 37,
     "metadata": {},
     "output_type": "execute_result"
    }
   ],
   "source": [
    "# SMOTE and Edited Nearest Neighbors (SMOTEENN)\n",
    "\n",
    "pipeline = create_pipeline(preprocessor, SMOTEENN(random_state=42), RandomForestClassifier(random_state=42))\n",
    "time_cross_val_score(pipeline, X_cv, y, scoring=scorer, cv=splitter)"
   ]
  },
  {
   "cell_type": "markdown",
   "id": "3e2a9ae5-d417-4261-b858-29d4c2a636f9",
   "metadata": {},
   "source": [
    "## Evaluating a Model\n",
    "\n",
    "The RandomForestClassifier is relatively robust, as it isn't significantly affected by how features are encoded or scaled, and it shows some resistance to irrelevant columns as well."
   ]
  },
  {
   "cell_type": "code",
   "execution_count": 39,
   "id": "398bccdf-f36a-4e16-9cc5-00fa12b32c73",
   "metadata": {},
   "outputs": [],
   "source": [
    "# Fit with training data.\n",
    "model = RandomForestClassifier(random_state=42)\n",
    "model.fit(X, y);"
   ]
  },
  {
   "cell_type": "code",
   "execution_count": 40,
   "id": "a0c9a661-ec4f-489b-ac72-0e6ae8c6dc5b",
   "metadata": {},
   "outputs": [],
   "source": [
    "# Predict with testing data.\n",
    "predictions = model.predict(X_test)"
   ]
  },
  {
   "cell_type": "code",
   "execution_count": 41,
   "id": "58931c16-9b31-4160-8c12-c52a9a9dce93",
   "metadata": {},
   "outputs": [
    {
     "name": "stdout",
     "output_type": "stream",
     "text": [
      "              precision    recall  f1-score   support\n",
      "\n",
      "           0       0.96      0.99      0.98     93576\n",
      "           1       0.76      0.42      0.54      6186\n",
      "\n",
      "    accuracy                           0.96     99762\n",
      "   macro avg       0.86      0.71      0.76     99762\n",
      "weighted avg       0.95      0.96      0.95     99762\n",
      "\n"
     ]
    }
   ],
   "source": [
    "# The correct labels should come first. I had flipped these before giving me bad looking results.\n",
    "print(classification_report(y_test, predictions))"
   ]
  },
  {
   "cell_type": "code",
   "execution_count": 42,
   "id": "277dc7d4-79c4-44f8-b3c1-42e9089d3da2",
   "metadata": {},
   "outputs": [
    {
     "name": "stdout",
     "output_type": "stream",
     "text": [
      "0.7066969978789525\n"
     ]
    }
   ],
   "source": [
    "# Reversed these by mistake.\n",
    "print(balanced_accuracy_score(y_test, predictions))"
   ]
  },
  {
   "cell_type": "code",
   "execution_count": 43,
   "id": "84877a97-901b-4146-9688-b90feb6f510d",
   "metadata": {},
   "outputs": [
    {
     "data": {
      "text/plain": [
       "0.9434747438287169"
      ]
     },
     "execution_count": 43,
     "metadata": {},
     "output_type": "execute_result"
    }
   ],
   "source": [
    "# Measures the model's ability to distinguish between classes.\n",
    "roc_auc_score(y_test, model.predict_proba(X_test)[:, 1])"
   ]
  },
  {
   "cell_type": "code",
   "execution_count": 44,
   "id": "037e2cc0-ebdf-4404-8bb7-d295b3b02f4f",
   "metadata": {},
   "outputs": [
    {
     "data": {
      "text/plain": [
       "0.6609300854873805"
      ]
     },
     "execution_count": 44,
     "metadata": {},
     "output_type": "execute_result"
    }
   ],
   "source": [
    "precision, recall, thresholds = precision_recall_curve(y_test, model.predict_proba(X_test)[:, 1])\n",
    "\n",
    "# Measures the model's ability to balance precision and recall across different thresholds.\n",
    "auc(recall, precision)"
   ]
  },
  {
   "cell_type": "code",
   "execution_count": 45,
   "id": "9f76e89e-7a1b-4b7f-bad1-bd14c9804d61",
   "metadata": {},
   "outputs": [
    {
     "name": "stdout",
     "output_type": "stream",
     "text": [
      "Threshold: 0.10 | Precision: 0.3362 | Recall: 0.8597\n",
      "Threshold: 0.20 | Precision: 0.4794 | Recall: 0.7425\n",
      "Threshold: 0.30 | Precision: 0.6027 | Recall: 0.6214\n",
      "Threshold: 0.40 | Precision: 0.6874 | Recall: 0.5318\n",
      "Threshold: 0.50 | Precision: 0.7557 | Recall: 0.4336\n",
      "Threshold: 0.60 | Precision: 0.8262 | Recall: 0.3274\n",
      "Threshold: 0.70 | Precision: 0.8883 | Recall: 0.2326\n",
      "Threshold: 0.80 | Precision: 0.9303 | Recall: 0.1445\n",
      "Threshold: 0.90 | Precision: 0.9737 | Recall: 0.0658\n"
     ]
    }
   ],
   "source": [
    "predict_probabilities = model.predict_proba(X_test)[:, 1]\n",
    "\n",
    "for threshold in np.arange(0.1, 1.0, 0.1):\n",
    "    threshold_predictions = (predict_probabilities >= threshold).astype(int)\n",
    "\n",
    "    # Calculate precision and recall.\n",
    "    precision = precision_score(y_test, threshold_predictions)\n",
    "    recall = recall_score(y_test, threshold_predictions)\n",
    "\n",
    "    print(f'Threshold: {threshold:.2f} | Precision: {precision:.4f} | Recall: {recall:.4f}')"
   ]
  },
  {
   "cell_type": "markdown",
   "id": "96afe67c-4ae7-43ae-b681-a55b9094009d",
   "metadata": {},
   "source": [
    "### Figures\n",
    "\n",
    "Does this section serve a purpose? I'm not sure, but if I make it available to myself I may find a purpose for it later.\n"
   ]
  },
  {
   "cell_type": "code",
   "execution_count": 47,
   "id": "6ad52eb3-2c1f-41b7-9d90-3e1d55b1df02",
   "metadata": {},
   "outputs": [
    {
     "data": {
      "text/plain": [
       "array([[92763,   813],\n",
       "       [ 3575,  2611]])"
      ]
     },
     "execution_count": 47,
     "metadata": {},
     "output_type": "execute_result"
    }
   ],
   "source": [
    "cm = confusion_matrix(y_test, predictions)\n",
    "cm"
   ]
  },
  {
   "cell_type": "code",
   "execution_count": 48,
   "id": "2acd2fed-9bb6-402d-9b91-b7bc1e973cf7",
   "metadata": {},
   "outputs": [
    {
     "data": {
      "image/png": "[encoded data removed]",
      "text/plain": [
       "<Figure size 1000x600 with 1 Axes>"
      ]
     },
     "metadata": {},
     "output_type": "display_data"
    }
   ],
   "source": [
    "labels = np.array([\n",
    "    [f\"TN: {cm[0, 0]}\", f\"FP: {cm[0, 1]}\"],\n",
    "    [f\"FN: {cm[1, 0]}\", f\"TP: {cm[1, 1]}\"]\n",
    "])\n",
    "\n",
    "plt.figure(figsize=(10, 6))\n",
    "\n",
    "sns.heatmap(cm, cmap=colormaps['Pastel1_r'], cbar=False, annot=labels, fmt='', annot_kws={\"size\": 16})\n",
    "\n",
    "plt.xlabel('Predicted Labels')\n",
    "plt.ylabel('True Labels')\n",
    "plt.title('Confusion Matrix')\n",
    "\n",
    "plt.savefig('../results/cm.png', bbox_inches='tight')\n",
    "\n",
    "plt.show()\n"
   ]
  },
  {
   "cell_type": "code",
   "execution_count": 49,
   "id": "da08457f-4f5c-4435-866f-7df151ca167f",
   "metadata": {},
   "outputs": [],
   "source": [
    "importance_df = pd.DataFrame({\n",
    "    'Feature': X.columns,\n",
    "    'Importance': model.feature_importances_\n",
    "})\n",
    "\n",
    "top_10 = importance_df.sort_values(by='Importance', ascending=False).head(10)\n"
   ]
  },
  {
   "cell_type": "code",
   "execution_count": 50,
   "id": "2a40c6e5-2d03-4d13-b181-06b28ba327eb",
   "metadata": {},
   "outputs": [
    {
     "data": {
      "image/png": "[encoded data removed]",
      "text/plain": [
       "<Figure size 1000x600 with 1 Axes>"
      ]
     },
     "metadata": {},
     "output_type": "display_data"
    }
   ],
   "source": [
    "plt.figure(figsize=(10, 6))\n",
    "\n",
    "plt.barh(top_10['Feature'], top_10['Importance'], color=colormaps['Pastel1'](np.linspace(0, 1, len(top_10))))\n",
    "\n",
    "plt.xlabel('Importance')\n",
    "plt.title('Top 10 Feature Importances')\n",
    "\n",
    "plt.gca().invert_yaxis()\n",
    "\n",
    "plt.savefig('../results/top_10_feature_importances.png', bbox_inches='tight')\n",
    "\n",
    "plt.show()\n"
   ]
  },
  {
   "cell_type": "code",
   "execution_count": 51,
   "id": "a71ac8ab-072b-4914-8574-6907c9906766",
   "metadata": {},
   "outputs": [],
   "source": [
    "def crop(path):\n",
    "    img = Image.open(path)\n",
    "    \n",
    "    gray_img = img.convert(\"L\")\n",
    "    inverted_img = ImageChops.invert(gray_img)\n",
    "    bbox = inverted_img.getbbox()\n",
    "\n",
    "    padding = 10\n",
    "    bbox = (bbox[0] - padding, bbox[1] - padding, bbox[2] + padding, bbox[3] + padding)\n",
    "    cropped_img = img.crop(bbox)\n",
    "\n",
    "    cropped_img.save(path)"
   ]
  },
  {
   "cell_type": "code",
   "execution_count": 52,
   "id": "8a58d6b7-2076-4feb-b853-147cc5a8d16a",
   "metadata": {},
   "outputs": [
    {
     "data": {
      "image/png": "[encoded data removed]",
      "text/plain": [
       "<Figure size 1000x600 with 1 Axes>"
      ]
     },
     "metadata": {},
     "output_type": "display_data"
    }
   ],
   "source": [
    "plt.figure(figsize=(10, 6))\n",
    "\n",
    "# Top text\n",
    "plt.text(0.27, 0.8, 'The top 10 features', fontsize=18, ha='left', va=\"bottom\", color='black')\n",
    "\n",
    "# Left text\n",
    "plt.text(0.2, 0.7, 'make', fontsize=18, ha='left', va=\"bottom\", color='black')\n",
    "\n",
    "# Middle text\n",
    "plt.text(0.3, 0.69, format(top_10[\"Importance\"].sum(), \".4%\"), fontsize=28, ha='left', va=\"bottom\", color='#5DADE2', fontweight='bold')\n",
    "\n",
    "# Right text\n",
    "plt.text(0.59, 0.7, 'of the importance', fontsize=18, ha='left', va=\"bottom\", color='black')\n",
    "\n",
    "plt.gca().axis('off')\n",
    "\n",
    "plt.savefig('../results/top_10_feature_importances_percentage.png')\n",
    "crop('../results/top_10_feature_importances_percentage.png')\n",
    "\n",
    "plt.show()\n"
   ]
  },
  {
   "cell_type": "code",
   "execution_count": 53,
   "id": "eb455d27-5ae3-40f3-a619-e1814aec7a68",
   "metadata": {},
   "outputs": [],
   "source": [
    "# Probabilities for ROC and AUC\n",
    "predicted_proba_class_1 = model.predict_proba(X_test)[:, 1]"
   ]
  },
  {
   "cell_type": "code",
   "execution_count": 54,
   "id": "c3ad5fc4-c3a7-4308-8c17-4199bae980ff",
   "metadata": {},
   "outputs": [
    {
     "data": {
      "image/png": "[encoded data removed]",
      "text/plain": [
       "<Figure size 1000x600 with 1 Axes>"
      ]
     },
     "metadata": {},
     "output_type": "display_data"
    }
   ],
   "source": [
    "fpr, tpr, _ = roc_curve(y_test, predicted_proba_class_1)\n",
    "roc_auc = auc(fpr, tpr)\n",
    "\n",
    "plt.figure(figsize=(10, 6))\n",
    "\n",
    "plt.plot(fpr, tpr, label=f'ROC curve (area = {roc_auc:.2f})', marker=\".\")\n",
    "plt.plot([0, 1], [0, 1], 'k--')\n",
    "\n",
    "plt.xlabel('False Positive Rate')\n",
    "plt.ylabel('True Positive Rate')\n",
    "plt.title('ROC Curve')\n",
    "plt.legend(loc=\"lower right\")\n",
    "\n",
    "plt.xlim([0.0, 1.0])\n",
    "plt.ylim([0.0, 1.0])\n",
    "\n",
    "plt.savefig('../results/roc_curve.png', bbox_inches='tight')\n",
    "\n",
    "plt.show()\n"
   ]
  },
  {
   "cell_type": "code",
   "execution_count": 55,
   "id": "1948a1df-597f-4ee9-acb0-e882eb56b633",
   "metadata": {},
   "outputs": [
    {
     "data": {
      "image/png": "[encoded data removed]",
      "text/plain": [
       "<Figure size 1000x600 with 1 Axes>"
      ]
     },
     "metadata": {},
     "output_type": "display_data"
    }
   ],
   "source": [
    "precision, recall, _ = precision_recall_curve(y_test, predicted_proba_class_1)\n",
    "pr_auc = auc(recall, precision)\n",
    "\n",
    "plt.figure(figsize=(10, 6))\n",
    "\n",
    "plt.plot(recall, precision, label=f'PR curve (area = {pr_auc:.2f})', marker='.')\n",
    "\n",
    "plt.xlabel('Recall')\n",
    "plt.ylabel('Precision')\n",
    "plt.title('PR Curve')\n",
    "plt.legend(loc=\"lower right\")\n",
    "\n",
    "plt.xlim([0.0, 1.0])\n",
    "plt.ylim([0.0, 1.0])\n",
    "\n",
    "plt.savefig('../results/pr_curve.png', bbox_inches='tight')\n",
    "\n",
    "plt.show()\n"
   ]
  },
  {
   "cell_type": "markdown",
   "id": "39b8289c-22ad-43a4-9a01-a33e7e9b8cbc",
   "metadata": {},
   "source": [
    "# Model Selection\n",
    "\n",
    "Handle cross validation carefully so that data leakage doesn't occur."
   ]
  },
  {
   "cell_type": "code",
   "execution_count": 57,
   "id": "dea88235-9529-4d5b-ba43-7330c3c0eef6",
   "metadata": {},
   "outputs": [],
   "source": [
    "# X_cv = train_df.drop(columns=[\"income\"], axis=1)\n",
    "# X_cv[nominal] = train_df[nominal].astype(\"object\")\n",
    "\n",
    "# preprocessor = ColumnTransformer(\n",
    "#     transformers = [\n",
    "#         ('continous', StandardScaler(), continuous),\n",
    "#         ('nominal', TargetEncoder(), nominal)\n",
    "#     ]\n",
    "# )\n",
    "\n",
    "# pipeline = Pipeline(steps=[\n",
    "#     ('preprocessor', preprocessor),\n",
    "#     ('classifier', RandomForestClassifier(random_state=42))\n",
    "# ])\n",
    "\n",
    "# splitter = StratifiedKFold(n_splits=5, shuffle=True, random_state=42)"
   ]
  },
  {
   "cell_type": "code",
   "execution_count": 58,
   "id": "ca7c4392-8702-4681-bab9-805066eeda82",
   "metadata": {},
   "outputs": [],
   "source": [
    "def create_pipeline_(classifier):\n",
    "    return Pipeline(steps=[\n",
    "        ('preprocessor', preprocessor),\n",
    "        ('classifier', classifier)\n",
    "    ]\n",
    ")"
   ]
  },
  {
   "cell_type": "code",
   "execution_count": 60,
   "id": "67a75505-4f2d-40eb-b2ab-b6d38c492073",
   "metadata": {},
   "outputs": [
    {
     "data": {
      "text/plain": [
       "array([0.74643875, 0.76201035, 0.75219298, 0.76804916, 0.77647059])"
      ]
     },
     "execution_count": 60,
     "metadata": {},
     "output_type": "execute_result"
    }
   ],
   "source": [
    "# RandomForestClassifier\n",
    "\n",
    "cross_val_score(create_pipeline_(RandomForestClassifier(random_state=42)), X_cv, y, cv=splitter, scoring='precision')"
   ]
  },
  {
   "cell_type": "code",
   "execution_count": 61,
   "id": "0782f27c-98f2-46ac-ab39-9fabbadd26f0",
   "metadata": {},
   "outputs": [
    {
     "data": {
      "text/plain": [
       "array([0.71661238, 0.70813008, 0.72819644, 0.7254902 , 0.72892562])"
      ]
     },
     "execution_count": 61,
     "metadata": {},
     "output_type": "execute_result"
    }
   ],
   "source": [
    "# LogisticRegression\n",
    "\n",
    "cross_val_score(create_pipeline_(LogisticRegression(random_state=42)), X_cv, y, cv=splitter, scoring='precision')"
   ]
  },
  {
   "cell_type": "code",
   "execution_count": 67,
   "id": "4c238c89-ebc8-4777-bd14-866c11ef3849",
   "metadata": {},
   "outputs": [
    {
     "data": {
      "text/plain": [
       "array([0.65188736, 0.64225182, 0.63609113, 0.6477483 , 0.63490173])"
      ]
     },
     "execution_count": 67,
     "metadata": {},
     "output_type": "execute_result"
    }
   ],
   "source": [
    "# KNeighborsClassifier\n",
    "\n",
    "cross_val_score(create_pipeline_(KNeighborsClassifier()), X_cv, y, cv=splitter, scoring='precision')"
   ]
  },
  {
   "cell_type": "code",
   "execution_count": 68,
   "id": "27581260-ca76-4ec0-9b8a-e94e28634cec",
   "metadata": {},
   "outputs": [
    {
     "data": {
      "text/plain": [
       "array([0.4615084 , 0.47334147, 0.46051571, 0.46258503, 0.47135717])"
      ]
     },
     "execution_count": 68,
     "metadata": {},
     "output_type": "execute_result"
    }
   ],
   "source": [
    "# DecisionTreeClassifier\n",
    "\n",
    "cross_val_score(create_pipeline_(DecisionTreeClassifier(random_state=42)), X_cv, y, cv=splitter, scoring='precision')"
   ]
  },
  {
   "cell_type": "code",
   "execution_count": 69,
   "id": "564610be-3915-46a6-bc33-7ee721404d88",
   "metadata": {},
   "outputs": [
    {
     "data": {
      "text/plain": [
       "array([0.6875    , 0.71144279, 0.71039182, 0.72104818, 0.6974359 ])"
      ]
     },
     "execution_count": 69,
     "metadata": {},
     "output_type": "execute_result"
    }
   ],
   "source": [
    "# AdaBoostClassifier\n",
    "\n",
    "cross_val_score(create_pipeline_(AdaBoostClassifier(algorithm='SAMME', random_state=42)), X_cv, y, cv=splitter, scoring='precision')"
   ]
  },
  {
   "cell_type": "code",
   "execution_count": 70,
   "id": "2e01e01e-48de-47dd-90bf-cd8248abaed9",
   "metadata": {},
   "outputs": [
    {
     "data": {
      "text/plain": [
       "array([0.75399361, 0.74883359, 0.74744296, 0.76083467, 0.76387803])"
      ]
     },
     "execution_count": 70,
     "metadata": {},
     "output_type": "execute_result"
    }
   ],
   "source": [
    "# ExtraTreesClassifier\n",
    "\n",
    "cross_val_score(create_pipeline_(ExtraTreesClassifier(random_state=42)), X_cv, y, cv=splitter, scoring='precision')"
   ]
  },
  {
   "cell_type": "code",
   "execution_count": 71,
   "id": "a991613a-ff03-4e9e-941a-14e4ca26cbac",
   "metadata": {},
   "outputs": [
    {
     "data": {
      "text/plain": [
       "array([0.72475884, 0.73408488, 0.72926344, 0.7358871 , 0.75151108])"
      ]
     },
     "execution_count": 71,
     "metadata": {},
     "output_type": "execute_result"
    }
   ],
   "source": [
    "# GradientBoostingClassifier\n",
    "\n",
    "cross_val_score(create_pipeline_(GradientBoostingClassifier(random_state=42)), X_cv, y, cv=splitter, scoring='precision')"
   ]
  },
  {
   "cell_type": "markdown",
   "id": "b1318131-4663-423f-910e-327b9f6e74fd",
   "metadata": {},
   "source": [
    "# Overfitting Game\n",
    "\n",
    "The `DecisionTreeClassifier` is probably overfitting and is easily improved.\n",
    "\n",
    "The `RandomForestClassifier` doesn't change much when messing with parameters.\n"
   ]
  },
  {
   "cell_type": "code",
   "execution_count": null,
   "id": "dd17eb1b-e73f-4086-b2f3-1773500a5eb1",
   "metadata": {},
   "outputs": [],
   "source": [
    "# param_distributions = {\n",
    "#     # 'n_estimators': [1, 5, 10, 50, 100, 300, 500, 1000],\n",
    "#     'criterion': ['gini', 'entropy', 'log_loss'],\n",
    "#     'max_depth': [None, 5, 10, 20, 40],\n",
    "#     'min_samples_split': [2, 5, 10, 20],\n",
    "#     'min_samples_leaf': [1, 2, 5, 10],\n",
    "#     'max_features': ['sqrt', 'log2', None],\n",
    "#     # 'max_leaf_nodes': [None, 10, 50, 100, 200],\n",
    "#     # 'min_impurity_decrease': [0.0, 0.01, 0.1],\n",
    "#     # 'bootstrap': [True, False],\n",
    "#     # 'oob_score': [True, False],\n",
    "#     # 'class_weight': ['balanced', 'balanced_subsample']\n",
    "# }\n"
   ]
  },
  {
   "cell_type": "code",
   "execution_count": null,
   "id": "0806b5a3-0957-427f-8385-e36fd4e54e40",
   "metadata": {},
   "outputs": [],
   "source": [
    "# dt = DecisionTreeClassifier(random_state=42)\n",
    "\n",
    "# search = RandomizedSearchCV(\n",
    "#     estimator=dt,\n",
    "#     param_distributions=param_distributions,\n",
    "#     n_iter=50,\n",
    "#     n_jobs=-1,\n",
    "#     cv=5,\n",
    "#     verbose=2,\n",
    "#     random_state=42,\n",
    "# )\n",
    "\n",
    "# search.fit(X, y)\n",
    "\n",
    "# print(\"Best Parameters: \", search.best_params_)\n",
    "\n",
    "# y_predictions = search.best_estimator_.predict(X_test)\n",
    "\n",
    "# print(confusion_matrix(y_test, y_predictions))\n",
    "# print(classification_report(y_test, y_predictions))\n"
   ]
  },
  {
   "cell_type": "code",
   "execution_count": null,
   "id": "8f66dd20-430e-465c-ad86-a449a09d23c2",
   "metadata": {},
   "outputs": [],
   "source": []
  }
 ],
 "metadata": {
  "kernelspec": {
   "display_name": "Python 3 (ipykernel)",
   "language": "python",
   "name": "python3"
  },
  "language_info": {
   "codemirror_mode": {
    "name": "ipython",
    "version": 3
   },
   "file_extension": ".py",
   "mimetype": "text/x-python",
   "name": "python",
   "nbconvert_exporter": "python",
   "pygments_lexer": "ipython3",
   "version": "3.11.7"
  }
 },
 "nbformat": 4,
 "nbformat_minor": 5
}
