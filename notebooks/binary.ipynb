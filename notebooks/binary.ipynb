{
 "cells": [
  {
   "cell_type": "markdown",
   "id": "d46f5412-ecfd-4914-9d15-4d8e29989f26",
   "metadata": {},
   "source": [
    "# Load Data\n",
    "The `.names` file is a convention used by the UCI Machine Learning Repository to provide essential metadata about the datasets they host."
   ]
  },
  {
   "cell_type": "code",
   "execution_count": 2,
   "id": "e8e5a91d-168e-423b-8ad0-b9e82868bb04",
   "metadata": {},
   "outputs": [],
   "source": [
    "import pandas as pd\n",
    "\n",
    "from sklearn.metrics import classification_report, balanced_accuracy_score\n",
    "from sklearn.preprocessing import OneHotEncoder, LabelEncoder\n",
    "\n",
    "from sklearn.ensemble import RandomForestClassifier\n",
    "from sklearn.model_selection import RandomizedSearchCV"
   ]
  },
  {
   "cell_type": "code",
   "execution_count": 3,
   "id": "4a54b174-efd4-4ca5-a511-5ada4c52a167",
   "metadata": {},
   "outputs": [],
   "source": [
    "def parse_metadata():\n",
    "    result = {}\n",
    "\n",
    "    # The .names file doesn't follow a strict format.\n",
    "    with open('../data/census/census-income.names', 'r') as file:\n",
    "        metadata = file.read()\n",
    "\n",
    "    # Just take lines that define attributes.\n",
    "    etch = list(filter(lambda x: not (x.startswith('|') or x.startswith('-') or x.strip() == ''), metadata.splitlines()))\n",
    "    for line in etch:\n",
    "        key, value = map(lambda x: x.rstrip(\".\").strip(), line.split(':'))\n",
    "\n",
    "        if value == \"continuous\":\n",
    "            result[key] = {\"type\": \"continuous\"}\n",
    "        else:\n",
    "            values = list(map(lambda x: x.strip(), value.split(\",\")))\n",
    "\n",
    "            # Try converting to an integer.\n",
    "            try:\n",
    "                values = list(map(int, values))\n",
    "            except:\n",
    "                pass\n",
    "            result[key] = {\"type\": \"nominal\", \"values\": values}\n",
    "\n",
    "    return result"
   ]
  },
  {
   "cell_type": "code",
   "execution_count": 4,
   "id": "546ef9db-c336-44a3-bacb-ec62a4ce2a4b",
   "metadata": {},
   "outputs": [],
   "source": [
    "# I'm getting names this way because I was interested in looking for unexpected values as well.\n",
    "codebook = parse_metadata()\n",
    "\n",
    "# The target is the last column in the dataset.\n",
    "column_names = list(codebook.keys()) + [\"income\"]"
   ]
  },
  {
   "cell_type": "code",
   "execution_count": 5,
   "id": "8338ae15-203e-48e8-b87e-ded08743915b",
   "metadata": {},
   "outputs": [
    {
     "data": {
      "text/plain": [
       "(199523, 42)"
      ]
     },
     "execution_count": 5,
     "metadata": {},
     "output_type": "execute_result"
    }
   ],
   "source": [
    "train_df = pd.read_csv('../data/census/census-income.data', names=column_names, index_col=False)\n",
    "train_df.shape"
   ]
  },
  {
   "cell_type": "code",
   "execution_count": 6,
   "id": "89f34925-f411-43a6-b92c-9e9cb5ef33ba",
   "metadata": {},
   "outputs": [
    {
     "data": {
      "text/plain": [
       "(99762, 42)"
      ]
     },
     "execution_count": 6,
     "metadata": {},
     "output_type": "execute_result"
    }
   ],
   "source": [
    "test_df = pd.read_csv('../data/census/census-income.test', names=column_names, index_col=False)\n",
    "test_df.shape"
   ]
  },
  {
   "cell_type": "markdown",
   "id": "792c5bb2-c13e-4fab-abb5-f0934d02d043",
   "metadata": {},
   "source": [
    "# Data Exploration"
   ]
  },
  {
   "cell_type": "code",
   "execution_count": 8,
   "id": "8297f75b-3b64-4023-b2e0-4a5af2a3635c",
   "metadata": {},
   "outputs": [
    {
     "name": "stdout",
     "output_type": "stream",
     "text": [
      "<class 'pandas.core.frame.DataFrame'>\n",
      "RangeIndex: 199523 entries, 0 to 199522\n",
      "Data columns (total 42 columns):\n",
      " #   Column                                      Non-Null Count   Dtype  \n",
      "---  ------                                      --------------   -----  \n",
      " 0   age                                         199523 non-null  int64  \n",
      " 1   class of worker                             199523 non-null  object \n",
      " 2   detailed industry recode                    199523 non-null  int64  \n",
      " 3   detailed occupation recode                  199523 non-null  int64  \n",
      " 4   education                                   199523 non-null  object \n",
      " 5   wage per hour                               199523 non-null  int64  \n",
      " 6   enroll in edu inst last wk                  199523 non-null  object \n",
      " 7   marital stat                                199523 non-null  object \n",
      " 8   major industry code                         199523 non-null  object \n",
      " 9   major occupation code                       199523 non-null  object \n",
      " 10  race                                        199523 non-null  object \n",
      " 11  hispanic origin                             199523 non-null  object \n",
      " 12  sex                                         199523 non-null  object \n",
      " 13  member of a labor union                     199523 non-null  object \n",
      " 14  reason for unemployment                     199523 non-null  object \n",
      " 15  full or part time employment stat           199523 non-null  object \n",
      " 16  capital gains                               199523 non-null  int64  \n",
      " 17  capital losses                              199523 non-null  int64  \n",
      " 18  dividends from stocks                       199523 non-null  int64  \n",
      " 19  tax filer stat                              199523 non-null  object \n",
      " 20  region of previous residence                199523 non-null  object \n",
      " 21  state of previous residence                 199523 non-null  object \n",
      " 22  detailed household and family stat          199523 non-null  object \n",
      " 23  detailed household summary in household     199523 non-null  object \n",
      " 24  instance weight                             199523 non-null  float64\n",
      " 25  migration code-change in msa                199523 non-null  object \n",
      " 26  migration code-change in reg                199523 non-null  object \n",
      " 27  migration code-move within reg              199523 non-null  object \n",
      " 28  live in this house 1 year ago               199523 non-null  object \n",
      " 29  migration prev res in sunbelt               199523 non-null  object \n",
      " 30  num persons worked for employer             199523 non-null  int64  \n",
      " 31  family members under 18                     199523 non-null  object \n",
      " 32  country of birth father                     199523 non-null  object \n",
      " 33  country of birth mother                     199523 non-null  object \n",
      " 34  country of birth self                       199523 non-null  object \n",
      " 35  citizenship                                 199523 non-null  object \n",
      " 36  own business or self employed               199523 non-null  int64  \n",
      " 37  fill inc questionnaire for veteran's admin  199523 non-null  object \n",
      " 38  veterans benefits                           199523 non-null  int64  \n",
      " 39  weeks worked in year                        199523 non-null  int64  \n",
      " 40  year                                        199523 non-null  int64  \n",
      " 41  income                                      199523 non-null  object \n",
      "dtypes: float64(1), int64(12), object(29)\n",
      "memory usage: 63.9+ MB\n"
     ]
    }
   ],
   "source": [
    "train_df.info()"
   ]
  },
  {
   "cell_type": "code",
   "execution_count": 9,
   "id": "8b136352-621c-404b-857e-f8034bafcf36",
   "metadata": {},
   "outputs": [
    {
     "name": "stdout",
     "output_type": "stream",
     "text": [
      "state of previous residence: {'?'}\n",
      "migration code-change in msa: {'?'}\n",
      "migration code-change in reg: {'?'}\n",
      "migration code-move within reg: {'?'}\n",
      "migration prev res in sunbelt: {'?'}\n",
      "country of birth father: {'?'}\n",
      "country of birth mother: {'?'}\n",
      "country of birth self: {'?'}\n"
     ]
    }
   ],
   "source": [
    "def print_unexpected_values(df, codebook):\n",
    "    df = df.apply(lambda x: x.str.strip() if x.dtype == \"object\" else x)\n",
    "\n",
    "    for key, value in codebook.items():\n",
    "        if value[\"type\"] != \"nominal\":\n",
    "            continue\n",
    "\n",
    "        expected_values = set(value[\"values\"])\n",
    "        actual_values = set(df[key].unique())\n",
    "\n",
    "        unexpected_values = actual_values - expected_values\n",
    "\n",
    "        if unexpected_values:\n",
    "            print(f\"{key}: {unexpected_values}\")\n",
    "\n",
    "print_unexpected_values(train_df, codebook)"
   ]
  },
  {
   "cell_type": "code",
   "execution_count": 10,
   "id": "948e062b-752d-4881-96d8-906c88d536c6",
   "metadata": {},
   "outputs": [
    {
     "name": "stdout",
     "output_type": "stream",
     "text": [
      "state of previous residence: 0.35% missing\n",
      "migration code-change in msa: 49.97% missing\n",
      "migration code-change in reg: 49.97% missing\n",
      "migration code-move within reg: 49.97% missing\n",
      "migration prev res in sunbelt: 49.97% missing\n",
      "country of birth father: 3.36% missing\n",
      "country of birth mother: 3.07% missing\n",
      "country of birth self: 1.70% missing\n"
     ]
    }
   ],
   "source": [
    "def calculate_missingness(df):\n",
    "    for column in df.columns:\n",
    "        if df[column].dtype != 'object':\n",
    "            continue\n",
    "        missing_count = (df[column].str.strip() == \"?\").sum()\n",
    "        total_count = len(df[column])\n",
    "        missing_percentage = (missing_count / total_count) * 100\n",
    "        if missing_count > 0:\n",
    "            print(f\"{column}: {missing_percentage:.2f}% missing\")\n",
    "\n",
    "calculate_missingness(train_df)"
   ]
  },
  {
   "cell_type": "code",
   "execution_count": 11,
   "id": "096678e2-345f-4810-b089-5da1ba8cc125",
   "metadata": {},
   "outputs": [
    {
     "data": {
      "text/html": [
       "<div>\n",
       "<style scoped>\n",
       "    .dataframe tbody tr th:only-of-type {\n",
       "        vertical-align: middle;\n",
       "    }\n",
       "\n",
       "    .dataframe tbody tr th {\n",
       "        vertical-align: top;\n",
       "    }\n",
       "\n",
       "    .dataframe thead th {\n",
       "        text-align: right;\n",
       "    }\n",
       "</style>\n",
       "<table border=\"1\" class=\"dataframe\">\n",
       "  <thead>\n",
       "    <tr style=\"text-align: right;\">\n",
       "      <th></th>\n",
       "      <th>count</th>\n",
       "      <th>mean</th>\n",
       "      <th>std</th>\n",
       "      <th>min</th>\n",
       "      <th>25%</th>\n",
       "      <th>50%</th>\n",
       "      <th>75%</th>\n",
       "      <th>max</th>\n",
       "    </tr>\n",
       "  </thead>\n",
       "  <tbody>\n",
       "    <tr>\n",
       "      <th>age</th>\n",
       "      <td>199523.0</td>\n",
       "      <td>34.494199</td>\n",
       "      <td>22.310895</td>\n",
       "      <td>0.00</td>\n",
       "      <td>15.000</td>\n",
       "      <td>33.00</td>\n",
       "      <td>50.00</td>\n",
       "      <td>90.0</td>\n",
       "    </tr>\n",
       "    <tr>\n",
       "      <th>detailed industry recode</th>\n",
       "      <td>199523.0</td>\n",
       "      <td>15.352320</td>\n",
       "      <td>18.067129</td>\n",
       "      <td>0.00</td>\n",
       "      <td>0.000</td>\n",
       "      <td>0.00</td>\n",
       "      <td>33.00</td>\n",
       "      <td>51.0</td>\n",
       "    </tr>\n",
       "    <tr>\n",
       "      <th>detailed occupation recode</th>\n",
       "      <td>199523.0</td>\n",
       "      <td>11.306556</td>\n",
       "      <td>14.454204</td>\n",
       "      <td>0.00</td>\n",
       "      <td>0.000</td>\n",
       "      <td>0.00</td>\n",
       "      <td>26.00</td>\n",
       "      <td>46.0</td>\n",
       "    </tr>\n",
       "    <tr>\n",
       "      <th>wage per hour</th>\n",
       "      <td>199523.0</td>\n",
       "      <td>55.426908</td>\n",
       "      <td>274.896454</td>\n",
       "      <td>0.00</td>\n",
       "      <td>0.000</td>\n",
       "      <td>0.00</td>\n",
       "      <td>0.00</td>\n",
       "      <td>9999.0</td>\n",
       "    </tr>\n",
       "    <tr>\n",
       "      <th>capital gains</th>\n",
       "      <td>199523.0</td>\n",
       "      <td>434.718990</td>\n",
       "      <td>4697.531280</td>\n",
       "      <td>0.00</td>\n",
       "      <td>0.000</td>\n",
       "      <td>0.00</td>\n",
       "      <td>0.00</td>\n",
       "      <td>99999.0</td>\n",
       "    </tr>\n",
       "    <tr>\n",
       "      <th>capital losses</th>\n",
       "      <td>199523.0</td>\n",
       "      <td>37.313788</td>\n",
       "      <td>271.896428</td>\n",
       "      <td>0.00</td>\n",
       "      <td>0.000</td>\n",
       "      <td>0.00</td>\n",
       "      <td>0.00</td>\n",
       "      <td>4608.0</td>\n",
       "    </tr>\n",
       "    <tr>\n",
       "      <th>dividends from stocks</th>\n",
       "      <td>199523.0</td>\n",
       "      <td>197.529533</td>\n",
       "      <td>1984.163658</td>\n",
       "      <td>0.00</td>\n",
       "      <td>0.000</td>\n",
       "      <td>0.00</td>\n",
       "      <td>0.00</td>\n",
       "      <td>99999.0</td>\n",
       "    </tr>\n",
       "    <tr>\n",
       "      <th>instance weight</th>\n",
       "      <td>199523.0</td>\n",
       "      <td>1740.380269</td>\n",
       "      <td>993.768156</td>\n",
       "      <td>37.87</td>\n",
       "      <td>1061.615</td>\n",
       "      <td>1618.31</td>\n",
       "      <td>2188.61</td>\n",
       "      <td>18656.3</td>\n",
       "    </tr>\n",
       "    <tr>\n",
       "      <th>num persons worked for employer</th>\n",
       "      <td>199523.0</td>\n",
       "      <td>1.956180</td>\n",
       "      <td>2.365126</td>\n",
       "      <td>0.00</td>\n",
       "      <td>0.000</td>\n",
       "      <td>1.00</td>\n",
       "      <td>4.00</td>\n",
       "      <td>6.0</td>\n",
       "    </tr>\n",
       "    <tr>\n",
       "      <th>own business or self employed</th>\n",
       "      <td>199523.0</td>\n",
       "      <td>0.175438</td>\n",
       "      <td>0.553694</td>\n",
       "      <td>0.00</td>\n",
       "      <td>0.000</td>\n",
       "      <td>0.00</td>\n",
       "      <td>0.00</td>\n",
       "      <td>2.0</td>\n",
       "    </tr>\n",
       "    <tr>\n",
       "      <th>veterans benefits</th>\n",
       "      <td>199523.0</td>\n",
       "      <td>1.514833</td>\n",
       "      <td>0.851473</td>\n",
       "      <td>0.00</td>\n",
       "      <td>2.000</td>\n",
       "      <td>2.00</td>\n",
       "      <td>2.00</td>\n",
       "      <td>2.0</td>\n",
       "    </tr>\n",
       "    <tr>\n",
       "      <th>weeks worked in year</th>\n",
       "      <td>199523.0</td>\n",
       "      <td>23.174897</td>\n",
       "      <td>24.411488</td>\n",
       "      <td>0.00</td>\n",
       "      <td>0.000</td>\n",
       "      <td>8.00</td>\n",
       "      <td>52.00</td>\n",
       "      <td>52.0</td>\n",
       "    </tr>\n",
       "    <tr>\n",
       "      <th>year</th>\n",
       "      <td>199523.0</td>\n",
       "      <td>94.499672</td>\n",
       "      <td>0.500001</td>\n",
       "      <td>94.00</td>\n",
       "      <td>94.000</td>\n",
       "      <td>94.00</td>\n",
       "      <td>95.00</td>\n",
       "      <td>95.0</td>\n",
       "    </tr>\n",
       "  </tbody>\n",
       "</table>\n",
       "</div>"
      ],
      "text/plain": [
       "                                    count         mean          std    min  \\\n",
       "age                              199523.0    34.494199    22.310895   0.00   \n",
       "detailed industry recode         199523.0    15.352320    18.067129   0.00   \n",
       "detailed occupation recode       199523.0    11.306556    14.454204   0.00   \n",
       "wage per hour                    199523.0    55.426908   274.896454   0.00   \n",
       "capital gains                    199523.0   434.718990  4697.531280   0.00   \n",
       "capital losses                   199523.0    37.313788   271.896428   0.00   \n",
       "dividends from stocks            199523.0   197.529533  1984.163658   0.00   \n",
       "instance weight                  199523.0  1740.380269   993.768156  37.87   \n",
       "num persons worked for employer  199523.0     1.956180     2.365126   0.00   \n",
       "own business or self employed    199523.0     0.175438     0.553694   0.00   \n",
       "veterans benefits                199523.0     1.514833     0.851473   0.00   \n",
       "weeks worked in year             199523.0    23.174897    24.411488   0.00   \n",
       "year                             199523.0    94.499672     0.500001  94.00   \n",
       "\n",
       "                                      25%      50%      75%      max  \n",
       "age                                15.000    33.00    50.00     90.0  \n",
       "detailed industry recode            0.000     0.00    33.00     51.0  \n",
       "detailed occupation recode          0.000     0.00    26.00     46.0  \n",
       "wage per hour                       0.000     0.00     0.00   9999.0  \n",
       "capital gains                       0.000     0.00     0.00  99999.0  \n",
       "capital losses                      0.000     0.00     0.00   4608.0  \n",
       "dividends from stocks               0.000     0.00     0.00  99999.0  \n",
       "instance weight                  1061.615  1618.31  2188.61  18656.3  \n",
       "num persons worked for employer     0.000     1.00     4.00      6.0  \n",
       "own business or self employed       0.000     0.00     0.00      2.0  \n",
       "veterans benefits                   2.000     2.00     2.00      2.0  \n",
       "weeks worked in year                0.000     8.00    52.00     52.0  \n",
       "year                               94.000    94.00    95.00     95.0  "
      ]
     },
     "execution_count": 11,
     "metadata": {},
     "output_type": "execute_result"
    }
   ],
   "source": [
    "# Maybe these values are capped.\n",
    "train_df.describe().T"
   ]
  },
  {
   "cell_type": "markdown",
   "id": "fda99181-7b28-4347-937d-14feb178d9a2",
   "metadata": {},
   "source": [
    "# Binary Classification Task\n",
    "\n",
    "The **Census-Income (KDD)** dataset is derived from the **1994 and 1995 Current Population Surveys (CPS)** conducted by the U.S. Census Bureau.\n",
    "\n",
    "It includes **199,523 training instances** and **99,762 test instances**.\n",
    "\n",
    "The goal is to predict the income level based on the data provided in each row. Incomes have been binned at the $50K level to create a binary classification problem."
   ]
  },
  {
   "cell_type": "code",
   "execution_count": 13,
   "id": "ae2ba05e-7a42-4323-b030-516d6750633c",
   "metadata": {},
   "outputs": [],
   "source": [
    "nominal = list(filter(lambda x: codebook[x][\"type\"] == \"nominal\", codebook.keys()))\n",
    "continuous = list(filter(lambda x: codebook[x][\"type\"] == \"continuous\" and x != \"instance weight\", codebook.keys()))"
   ]
  },
  {
   "cell_type": "code",
   "execution_count": 14,
   "id": "3c0cdbcd-d4d7-42ae-b7e6-98543c857800",
   "metadata": {},
   "outputs": [],
   "source": [
    "# Encode categorical features.\n",
    "encoder = OneHotEncoder(drop='first', sparse_output=False)\n",
    "label_encoder = LabelEncoder()\n",
    "\n",
    "# Fit the encoders to the training data.\n",
    "encoder.fit(train_df[nominal])\n",
    "label_encoder.fit(train_df[\"income\"])\n",
    "\n",
    "# Feature names\n",
    "one_hot_feature_names = encoder.get_feature_names_out(nominal)"
   ]
  },
  {
   "cell_type": "code",
   "execution_count": 15,
   "id": "428fd20d-7bff-4e33-985f-36b9bce7d562",
   "metadata": {},
   "outputs": [],
   "source": [
    "# Encode training data.\n",
    "X = pd.concat([pd.DataFrame(encoder.transform(train_df[nominal]), columns=one_hot_feature_names), train_df[continuous]], axis=1)\n",
    "y = label_encoder.transform(train_df[\"income\"])\n"
   ]
  },
  {
   "cell_type": "code",
   "execution_count": 16,
   "id": "78bc7b0a-6ecf-4239-b940-bf516dde64be",
   "metadata": {},
   "outputs": [],
   "source": [
    "# Encode testing data.\n",
    "X_test = pd.concat([pd.DataFrame(encoder.transform(test_df[nominal]), columns=one_hot_feature_names), test_df[continuous]], axis=1)\n",
    "y_test = label_encoder.transform(test_df[\"income\"])\n"
   ]
  },
  {
   "cell_type": "code",
   "execution_count": 17,
   "id": "398bccdf-f36a-4e16-9cc5-00fa12b32c73",
   "metadata": {},
   "outputs": [],
   "source": [
    "# Fit with training data.\n",
    "model = RandomForestClassifier(random_state=42)\n",
    "model.fit(X, y);\n"
   ]
  },
  {
   "cell_type": "code",
   "execution_count": 18,
   "id": "a0c9a661-ec4f-489b-ac72-0e6ae8c6dc5b",
   "metadata": {},
   "outputs": [],
   "source": [
    "# Predict with testing data.\n",
    "predictions = model.predict(X_test)"
   ]
  },
  {
   "cell_type": "code",
   "execution_count": 19,
   "id": "58931c16-9b31-4160-8c12-c52a9a9dce93",
   "metadata": {},
   "outputs": [
    {
     "name": "stdout",
     "output_type": "stream",
     "text": [
      "              precision    recall  f1-score   support\n",
      "\n",
      "           0       0.99      0.96      0.98     96413\n",
      "           1       0.40      0.74      0.52      3349\n",
      "\n",
      "    accuracy                           0.95     99762\n",
      "   macro avg       0.70      0.85      0.75     99762\n",
      "weighted avg       0.97      0.95      0.96     99762\n",
      "\n"
     ]
    }
   ],
   "source": [
    "print(classification_report(predictions, y_test))"
   ]
  },
  {
   "cell_type": "code",
   "execution_count": 20,
   "id": "277dc7d4-79c4-44f8-b3c1-42e9089d3da2",
   "metadata": {},
   "outputs": [
    {
     "name": "stdout",
     "output_type": "stream",
     "text": [
      "0.8496500202793771\n"
     ]
    }
   ],
   "source": [
    "print(balanced_accuracy_score(predictions, y_test))"
   ]
  }
 ],
 "metadata": {
  "kernelspec": {
   "display_name": "Python 3 (ipykernel)",
   "language": "python",
   "name": "python3"
  },
  "language_info": {
   "codemirror_mode": {
    "name": "ipython",
    "version": 3
   },
   "file_extension": ".py",
   "mimetype": "text/x-python",
   "name": "python",
   "nbconvert_exporter": "python",
   "pygments_lexer": "ipython3",
   "version": "3.11.7"
  }
 },
 "nbformat": 4,
 "nbformat_minor": 5
}
