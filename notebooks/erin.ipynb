{
 "cells": [
  {
   "cell_type": "code",
   "execution_count": 1,
   "id": "8cce4f41-da1e-4e91-9050-2fb90593cc19",
   "metadata": {},
   "outputs": [],
   "source": [
    "# Allow importing from the code directory.\n",
    "import sys\n",
    "sys.path.append('../code/')"
   ]
  },
  {
   "cell_type": "code",
   "execution_count": 2,
   "id": "24acbd5e-2cc7-472f-b0ce-be95e5f35834",
   "metadata": {},
   "outputs": [],
   "source": [
    "from sklearn.ensemble import RandomForestClassifier\n",
    "from sklearn.linear_model import LogisticRegression\n",
    "\n",
    "from etch import load_census, teska, ys"
   ]
  },
  {
   "cell_type": "code",
   "execution_count": 3,
   "id": "bbd6783d-5cf5-4168-81c3-47e37394adbe",
   "metadata": {},
   "outputs": [],
   "source": [
    "census = load_census()"
   ]
  },
  {
   "cell_type": "code",
   "execution_count": 4,
   "id": "7d3727ef-dd7c-4153-9c0f-7eff65425541",
   "metadata": {},
   "outputs": [],
   "source": [
    "pipeline, (X_train_encoded, y_train_encoded), (X_test_encoded, y_test_encoded) = teska(RandomForestClassifier(random_state=42), census)"
   ]
  },
  {
   "cell_type": "code",
   "execution_count": 5,
   "id": "34522c9f-5c61-4907-870d-1e35d4290cae",
   "metadata": {},
   "outputs": [
    {
     "name": "stdout",
     "output_type": "stream",
     "text": [
      "              precision    recall  f1-score   support\n",
      "\n",
      "           0       0.96      0.99      0.98     93576\n",
      "           1       0.73      0.41      0.52      6186\n",
      "\n",
      "    accuracy                           0.95     99762\n",
      "   macro avg       0.85      0.70      0.75     99762\n",
      "weighted avg       0.95      0.95      0.95     99762\n",
      "\n",
      "[[92648   928]\n",
      " [ 3671  2515]]\n"
     ]
    }
   ],
   "source": [
    "ys(pipeline, census.X_test, y_test_encoded)"
   ]
  },
  {
   "cell_type": "code",
   "execution_count": 6,
   "id": "cf652b64-f237-4b67-a7bc-e06f89f7dc4e",
   "metadata": {},
   "outputs": [],
   "source": [
    "y_train_predictions = pipeline.predict(census.X_train)\n",
    "y_test_predictions = pipeline.predict(census.X_test)"
   ]
  },
  {
   "cell_type": "code",
   "execution_count": 7,
   "id": "b80d6959-7292-437d-ba93-1ea2ace7f199",
   "metadata": {},
   "outputs": [
    {
     "name": "stdout",
     "output_type": "stream",
     "text": [
      "              precision    recall  f1-score   support\n",
      "\n",
      "           0       1.00      1.00      1.00     96439\n",
      "           1       0.89      0.92      0.90      3323\n",
      "\n",
      "    accuracy                           0.99     99762\n",
      "   macro avg       0.94      0.96      0.95     99762\n",
      "weighted avg       0.99      0.99      0.99     99762\n",
      "\n",
      "[[96051   388]\n",
      " [  275  3048]]\n",
      "              precision    recall  f1-score   support\n",
      "\n",
      "           0       0.96      0.99      0.98     93576\n",
      "           1       0.73      0.41      0.52      6186\n",
      "\n",
      "    accuracy                           0.95     99762\n",
      "   macro avg       0.85      0.70      0.75     99762\n",
      "weighted avg       0.95      0.95      0.95     99762\n",
      "\n",
      "[[92654   922]\n",
      " [ 3672  2514]]\n"
     ]
    }
   ],
   "source": [
    "pipeline.fit(census.X_train, y_train_predictions)\n",
    "ys(pipeline, census.X_test, y_test_predictions)\n",
    "ys(pipeline, census.X_test, y_test_encoded)"
   ]
  },
  {
   "cell_type": "code",
   "execution_count": 8,
   "id": "14e7479b-e6ab-48f9-829e-d5f8e9f99fa0",
   "metadata": {},
   "outputs": [],
   "source": [
    "model = pipeline.steps.pop()\n",
    "pipeline.steps.append(('estimator', LogisticRegression(random_state=42)))"
   ]
  },
  {
   "cell_type": "code",
   "execution_count": 9,
   "id": "aa004520-e12d-43ab-8783-7a073a72be5d",
   "metadata": {},
   "outputs": [
    {
     "name": "stdout",
     "output_type": "stream",
     "text": [
      "              precision    recall  f1-score   support\n",
      "\n",
      "           0       0.99      0.99      0.99     96439\n",
      "           1       0.70      0.70      0.70      3323\n",
      "\n",
      "    accuracy                           0.98     99762\n",
      "   macro avg       0.84      0.84      0.84     99762\n",
      "weighted avg       0.98      0.98      0.98     99762\n",
      "\n",
      "[[95441   998]\n",
      " [ 1006  2317]]\n",
      "              precision    recall  f1-score   support\n",
      "\n",
      "           0       0.96      0.99      0.98     93576\n",
      "           1       0.73      0.39      0.51      6186\n",
      "\n",
      "    accuracy                           0.95     99762\n",
      "   macro avg       0.85      0.69      0.74     99762\n",
      "weighted avg       0.95      0.95      0.95     99762\n",
      "\n",
      "[[92688   888]\n",
      " [ 3759  2427]]\n"
     ]
    }
   ],
   "source": [
    "pipeline.fit(census.X_train, y_train_predictions)\n",
    "ys(pipeline, census.X_test, y_test_predictions)\n",
    "ys(pipeline, census.X_test, y_test_encoded)"
   ]
  }
 ],
 "metadata": {
  "kernelspec": {
   "display_name": "Python 3 (ipykernel)",
   "language": "python",
   "name": "python3"
  },
  "language_info": {
   "codemirror_mode": {
    "name": "ipython",
    "version": 3
   },
   "file_extension": ".py",
   "mimetype": "text/x-python",
   "name": "python",
   "nbconvert_exporter": "python",
   "pygments_lexer": "ipython3",
   "version": "3.11.7"
  }
 },
 "nbformat": 4,
 "nbformat_minor": 5
}
