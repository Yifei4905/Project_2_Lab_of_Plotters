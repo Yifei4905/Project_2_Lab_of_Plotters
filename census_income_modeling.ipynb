{
 "cells": [
  {
   "cell_type": "markdown",
   "metadata": {},
   "source": [
    "# Census Income Modeling"
   ]
  },
  {
   "cell_type": "code",
   "execution_count": 1,
   "metadata": {},
   "outputs": [],
   "source": [
    "import pandas as pd\n",
    "import numpy as np\n",
    "import matplotlib.pyplot as plt\n",
    "from scipy.stats import linregress\n",
    "import pipeline_utilities as p_util\n",
    "from sklearn.model_selection import train_test_split\n",
    "#from sklearn.metrics import accuracy_score, balanced_accuracy_score, classification_report\n",
    "#from sklearn.ensemble import RandomForestClassifier\n"
   ]
  },
  {
   "cell_type": "code",
   "execution_count": 2,
   "metadata": {},
   "outputs": [
    {
     "data": {
      "text/html": [
       "<div>\n",
       "<style scoped>\n",
       "    .dataframe tbody tr th:only-of-type {\n",
       "        vertical-align: middle;\n",
       "    }\n",
       "\n",
       "    .dataframe tbody tr th {\n",
       "        vertical-align: top;\n",
       "    }\n",
       "\n",
       "    .dataframe thead th {\n",
       "        text-align: right;\n",
       "    }\n",
       "</style>\n",
       "<table border=\"1\" class=\"dataframe\">\n",
       "  <thead>\n",
       "    <tr style=\"text-align: right;\">\n",
       "      <th></th>\n",
       "      <th>Age</th>\n",
       "      <th>Class</th>\n",
       "      <th>Industry</th>\n",
       "      <th>Occupation</th>\n",
       "      <th>Education</th>\n",
       "      <th>AHGA</th>\n",
       "      <th>AHRSPAY</th>\n",
       "      <th>Marital</th>\n",
       "      <th>Major Industry</th>\n",
       "      <th>Major Occupation</th>\n",
       "      <th>...</th>\n",
       "      <th>NOEMP</th>\n",
       "      <th>PARENT</th>\n",
       "      <th>PEARNVAL</th>\n",
       "      <th>Citizenship</th>\n",
       "      <th>PEMNTVTY</th>\n",
       "      <th>PENATVTY</th>\n",
       "      <th>PRCITSHP</th>\n",
       "      <th>Weeks Worked</th>\n",
       "      <th>Year</th>\n",
       "      <th>Above50K</th>\n",
       "    </tr>\n",
       "  </thead>\n",
       "  <tbody>\n",
       "    <tr>\n",
       "      <th>0</th>\n",
       "      <td>38</td>\n",
       "      <td>Private</td>\n",
       "      <td>6</td>\n",
       "      <td>36</td>\n",
       "      <td>1st 2nd 3rd or 4th grade</td>\n",
       "      <td>0</td>\n",
       "      <td>Not in universe</td>\n",
       "      <td>Married-civilian spouse present</td>\n",
       "      <td>Manufacturing-durable goods</td>\n",
       "      <td>Machine operators assmblrs &amp; inspctrs</td>\n",
       "      <td>...</td>\n",
       "      <td>Mexico</td>\n",
       "      <td>Mexico</td>\n",
       "      <td>Mexico</td>\n",
       "      <td>Foreign born- Not a citizen of U S</td>\n",
       "      <td>0</td>\n",
       "      <td>Not in universe</td>\n",
       "      <td>2</td>\n",
       "      <td>12</td>\n",
       "      <td>95</td>\n",
       "      <td>-50000</td>\n",
       "    </tr>\n",
       "    <tr>\n",
       "      <th>1</th>\n",
       "      <td>44</td>\n",
       "      <td>Self-employed-not incorporated</td>\n",
       "      <td>37</td>\n",
       "      <td>12</td>\n",
       "      <td>Associates degree-occup /vocational</td>\n",
       "      <td>0</td>\n",
       "      <td>Not in universe</td>\n",
       "      <td>Married-civilian spouse present</td>\n",
       "      <td>Business and repair services</td>\n",
       "      <td>Professional specialty</td>\n",
       "      <td>...</td>\n",
       "      <td>United-States</td>\n",
       "      <td>United-States</td>\n",
       "      <td>United-States</td>\n",
       "      <td>Native- Born in the United States</td>\n",
       "      <td>0</td>\n",
       "      <td>Not in universe</td>\n",
       "      <td>2</td>\n",
       "      <td>26</td>\n",
       "      <td>95</td>\n",
       "      <td>-50000</td>\n",
       "    </tr>\n",
       "    <tr>\n",
       "      <th>2</th>\n",
       "      <td>2</td>\n",
       "      <td>Not in universe</td>\n",
       "      <td>0</td>\n",
       "      <td>0</td>\n",
       "      <td>Children</td>\n",
       "      <td>0</td>\n",
       "      <td>Not in universe</td>\n",
       "      <td>Never married</td>\n",
       "      <td>Not in universe or children</td>\n",
       "      <td>Not in universe</td>\n",
       "      <td>...</td>\n",
       "      <td>United-States</td>\n",
       "      <td>United-States</td>\n",
       "      <td>United-States</td>\n",
       "      <td>Native- Born in the United States</td>\n",
       "      <td>0</td>\n",
       "      <td>Not in universe</td>\n",
       "      <td>0</td>\n",
       "      <td>0</td>\n",
       "      <td>95</td>\n",
       "      <td>-50000</td>\n",
       "    </tr>\n",
       "    <tr>\n",
       "      <th>3</th>\n",
       "      <td>35</td>\n",
       "      <td>Private</td>\n",
       "      <td>29</td>\n",
       "      <td>3</td>\n",
       "      <td>High school graduate</td>\n",
       "      <td>0</td>\n",
       "      <td>Not in universe</td>\n",
       "      <td>Divorced</td>\n",
       "      <td>Transportation</td>\n",
       "      <td>Executive admin and managerial</td>\n",
       "      <td>...</td>\n",
       "      <td>United-States</td>\n",
       "      <td>United-States</td>\n",
       "      <td>United-States</td>\n",
       "      <td>Native- Born in the United States</td>\n",
       "      <td>2</td>\n",
       "      <td>Not in universe</td>\n",
       "      <td>2</td>\n",
       "      <td>52</td>\n",
       "      <td>94</td>\n",
       "      <td>-50000</td>\n",
       "    </tr>\n",
       "    <tr>\n",
       "      <th>4</th>\n",
       "      <td>49</td>\n",
       "      <td>Private</td>\n",
       "      <td>4</td>\n",
       "      <td>34</td>\n",
       "      <td>High school graduate</td>\n",
       "      <td>0</td>\n",
       "      <td>Not in universe</td>\n",
       "      <td>Divorced</td>\n",
       "      <td>Construction</td>\n",
       "      <td>Precision production craft &amp; repair</td>\n",
       "      <td>...</td>\n",
       "      <td>United-States</td>\n",
       "      <td>United-States</td>\n",
       "      <td>United-States</td>\n",
       "      <td>Native- Born in the United States</td>\n",
       "      <td>0</td>\n",
       "      <td>Not in universe</td>\n",
       "      <td>2</td>\n",
       "      <td>50</td>\n",
       "      <td>95</td>\n",
       "      <td>-50000</td>\n",
       "    </tr>\n",
       "  </tbody>\n",
       "</table>\n",
       "<p>5 rows × 42 columns</p>\n",
       "</div>"
      ],
      "text/plain": [
       "   Age                            Class  Industry  Occupation  \\\n",
       "0   38                          Private         6          36   \n",
       "1   44   Self-employed-not incorporated        37          12   \n",
       "2    2                  Not in universe         0           0   \n",
       "3   35                          Private        29           3   \n",
       "4   49                          Private         4          34   \n",
       "\n",
       "                              Education  AHGA           AHRSPAY  \\\n",
       "0              1st 2nd 3rd or 4th grade     0   Not in universe   \n",
       "1   Associates degree-occup /vocational     0   Not in universe   \n",
       "2                              Children     0   Not in universe   \n",
       "3                  High school graduate     0   Not in universe   \n",
       "4                  High school graduate     0   Not in universe   \n",
       "\n",
       "                            Marital                 Major Industry  \\\n",
       "0   Married-civilian spouse present    Manufacturing-durable goods   \n",
       "1   Married-civilian spouse present   Business and repair services   \n",
       "2                     Never married    Not in universe or children   \n",
       "3                          Divorced                 Transportation   \n",
       "4                          Divorced                   Construction   \n",
       "\n",
       "                         Major Occupation  ...           NOEMP  \\\n",
       "0   Machine operators assmblrs & inspctrs  ...          Mexico   \n",
       "1                  Professional specialty  ...   United-States   \n",
       "2                         Not in universe  ...   United-States   \n",
       "3          Executive admin and managerial  ...   United-States   \n",
       "4     Precision production craft & repair  ...   United-States   \n",
       "\n",
       "           PARENT        PEARNVAL                           Citizenship  \\\n",
       "0          Mexico          Mexico   Foreign born- Not a citizen of U S    \n",
       "1   United-States   United-States     Native- Born in the United States   \n",
       "2   United-States   United-States     Native- Born in the United States   \n",
       "3   United-States   United-States     Native- Born in the United States   \n",
       "4   United-States   United-States     Native- Born in the United States   \n",
       "\n",
       "  PEMNTVTY          PENATVTY  PRCITSHP  Weeks Worked  Year Above50K  \n",
       "0        0   Not in universe         2            12    95   -50000  \n",
       "1        0   Not in universe         2            26    95   -50000  \n",
       "2        0   Not in universe         0             0    95   -50000  \n",
       "3        2   Not in universe         2            52    94   -50000  \n",
       "4        0   Not in universe         2            50    95   -50000  \n",
       "\n",
       "[5 rows x 42 columns]"
      ]
     },
     "execution_count": 2,
     "metadata": {},
     "output_type": "execute_result"
    }
   ],
   "source": [
    "# Import and examine the data\n",
    "original_data = pd.read_csv(\"../Project2_Resources/census-income-test.csv\")\n",
    "original_data.head()"
   ]
  },
  {
   "cell_type": "code",
   "execution_count": 3,
   "metadata": {},
   "outputs": [],
   "source": [
    "# Review the columns\n",
    "#original_data.columns"
   ]
  },
  {
   "cell_type": "code",
   "execution_count": 4,
   "metadata": {},
   "outputs": [],
   "source": [
    "# Review the values\n",
    "#original_data.describe()"
   ]
  },
  {
   "cell_type": "code",
   "execution_count": 5,
   "metadata": {},
   "outputs": [
    {
     "data": {
      "text/plain": [
       "KTarget\n",
       "0    93576\n",
       "1     6186\n",
       "Name: count, dtype: int64"
      ]
     },
     "execution_count": 5,
     "metadata": {},
     "output_type": "execute_result"
    }
   ],
   "source": [
    "# Define a function\n",
    "def set_target(above50k):\n",
    "    if above50k == '-50000':\n",
    "        return 0\n",
    "    return 1\n",
    "\n",
    "# \"Apply\" the function to the amount column\n",
    "original_data['KTarget'] = original_data['Above50K'].apply(set_target)\n",
    "original_data['KTarget'].value_counts()"
   ]
  },
  {
   "cell_type": "code",
   "execution_count": 6,
   "metadata": {},
   "outputs": [],
   "source": [
    "#original_data[['KTarget', 'Age', 'Industry', 'Occupation']].corr()"
   ]
  },
  {
   "cell_type": "code",
   "execution_count": 7,
   "metadata": {},
   "outputs": [
    {
     "data": {
      "text/html": [
       "<div>\n",
       "<style scoped>\n",
       "    .dataframe tbody tr th:only-of-type {\n",
       "        vertical-align: middle;\n",
       "    }\n",
       "\n",
       "    .dataframe tbody tr th {\n",
       "        vertical-align: top;\n",
       "    }\n",
       "\n",
       "    .dataframe thead th {\n",
       "        text-align: right;\n",
       "    }\n",
       "</style>\n",
       "<table border=\"1\" class=\"dataframe\">\n",
       "  <thead>\n",
       "    <tr style=\"text-align: right;\">\n",
       "      <th></th>\n",
       "      <th>Age</th>\n",
       "      <th>Class</th>\n",
       "      <th>Industry</th>\n",
       "      <th>Occupation</th>\n",
       "      <th>Education</th>\n",
       "      <th>AHGA</th>\n",
       "      <th>AHRSPAY</th>\n",
       "      <th>Marital</th>\n",
       "      <th>Major Industry</th>\n",
       "      <th>Major Occupation</th>\n",
       "      <th>...</th>\n",
       "      <th>PARENT</th>\n",
       "      <th>PEARNVAL</th>\n",
       "      <th>Citizenship</th>\n",
       "      <th>PEMNTVTY</th>\n",
       "      <th>PENATVTY</th>\n",
       "      <th>PRCITSHP</th>\n",
       "      <th>Weeks Worked</th>\n",
       "      <th>Year</th>\n",
       "      <th>Above50K</th>\n",
       "      <th>KTarget</th>\n",
       "    </tr>\n",
       "  </thead>\n",
       "  <tbody>\n",
       "    <tr>\n",
       "      <th>0</th>\n",
       "      <td>38</td>\n",
       "      <td>4</td>\n",
       "      <td>6</td>\n",
       "      <td>36</td>\n",
       "      <td>3</td>\n",
       "      <td>0</td>\n",
       "      <td>2</td>\n",
       "      <td>2</td>\n",
       "      <td>10</td>\n",
       "      <td>5</td>\n",
       "      <td>...</td>\n",
       "      <td>26</td>\n",
       "      <td>26</td>\n",
       "      <td>0</td>\n",
       "      <td>0</td>\n",
       "      <td>1</td>\n",
       "      <td>2</td>\n",
       "      <td>12</td>\n",
       "      <td>95</td>\n",
       "      <td>-50000</td>\n",
       "      <td>0</td>\n",
       "    </tr>\n",
       "    <tr>\n",
       "      <th>1</th>\n",
       "      <td>44</td>\n",
       "      <td>6</td>\n",
       "      <td>37</td>\n",
       "      <td>12</td>\n",
       "      <td>8</td>\n",
       "      <td>0</td>\n",
       "      <td>2</td>\n",
       "      <td>2</td>\n",
       "      <td>2</td>\n",
       "      <td>10</td>\n",
       "      <td>...</td>\n",
       "      <td>40</td>\n",
       "      <td>40</td>\n",
       "      <td>4</td>\n",
       "      <td>0</td>\n",
       "      <td>1</td>\n",
       "      <td>2</td>\n",
       "      <td>26</td>\n",
       "      <td>95</td>\n",
       "      <td>-50000</td>\n",
       "      <td>0</td>\n",
       "    </tr>\n",
       "    <tr>\n",
       "      <th>2</th>\n",
       "      <td>2</td>\n",
       "      <td>3</td>\n",
       "      <td>0</td>\n",
       "      <td>0</td>\n",
       "      <td>10</td>\n",
       "      <td>0</td>\n",
       "      <td>2</td>\n",
       "      <td>4</td>\n",
       "      <td>14</td>\n",
       "      <td>6</td>\n",
       "      <td>...</td>\n",
       "      <td>40</td>\n",
       "      <td>40</td>\n",
       "      <td>4</td>\n",
       "      <td>0</td>\n",
       "      <td>1</td>\n",
       "      <td>0</td>\n",
       "      <td>0</td>\n",
       "      <td>95</td>\n",
       "      <td>-50000</td>\n",
       "      <td>0</td>\n",
       "    </tr>\n",
       "    <tr>\n",
       "      <th>3</th>\n",
       "      <td>35</td>\n",
       "      <td>4</td>\n",
       "      <td>29</td>\n",
       "      <td>3</td>\n",
       "      <td>12</td>\n",
       "      <td>0</td>\n",
       "      <td>2</td>\n",
       "      <td>0</td>\n",
       "      <td>21</td>\n",
       "      <td>2</td>\n",
       "      <td>...</td>\n",
       "      <td>40</td>\n",
       "      <td>40</td>\n",
       "      <td>4</td>\n",
       "      <td>2</td>\n",
       "      <td>1</td>\n",
       "      <td>2</td>\n",
       "      <td>52</td>\n",
       "      <td>94</td>\n",
       "      <td>-50000</td>\n",
       "      <td>0</td>\n",
       "    </tr>\n",
       "    <tr>\n",
       "      <th>4</th>\n",
       "      <td>49</td>\n",
       "      <td>4</td>\n",
       "      <td>4</td>\n",
       "      <td>34</td>\n",
       "      <td>12</td>\n",
       "      <td>0</td>\n",
       "      <td>2</td>\n",
       "      <td>0</td>\n",
       "      <td>4</td>\n",
       "      <td>8</td>\n",
       "      <td>...</td>\n",
       "      <td>40</td>\n",
       "      <td>40</td>\n",
       "      <td>4</td>\n",
       "      <td>0</td>\n",
       "      <td>1</td>\n",
       "      <td>2</td>\n",
       "      <td>50</td>\n",
       "      <td>95</td>\n",
       "      <td>-50000</td>\n",
       "      <td>0</td>\n",
       "    </tr>\n",
       "  </tbody>\n",
       "</table>\n",
       "<p>5 rows × 43 columns</p>\n",
       "</div>"
      ],
      "text/plain": [
       "   Age  Class  Industry  Occupation  Education  AHGA  AHRSPAY  Marital  \\\n",
       "0   38      4         6          36          3     0        2        2   \n",
       "1   44      6        37          12          8     0        2        2   \n",
       "2    2      3         0           0         10     0        2        4   \n",
       "3   35      4        29           3         12     0        2        0   \n",
       "4   49      4         4          34         12     0        2        0   \n",
       "\n",
       "   Major Industry  Major Occupation  ...  PARENT  PEARNVAL  Citizenship  \\\n",
       "0              10                 5  ...      26        26            0   \n",
       "1               2                10  ...      40        40            4   \n",
       "2              14                 6  ...      40        40            4   \n",
       "3              21                 2  ...      40        40            4   \n",
       "4               4                 8  ...      40        40            4   \n",
       "\n",
       "   PEMNTVTY  PENATVTY  PRCITSHP  Weeks Worked  Year  Above50K  KTarget  \n",
       "0         0         1         2            12    95    -50000        0  \n",
       "1         0         1         2            26    95    -50000        0  \n",
       "2         0         1         0             0    95    -50000        0  \n",
       "3         2         1         2            52    94    -50000        0  \n",
       "4         0         1         2            50    95    -50000        0  \n",
       "\n",
       "[5 rows x 43 columns]"
      ]
     },
     "execution_count": 7,
     "metadata": {},
     "output_type": "execute_result"
    }
   ],
   "source": [
    "columns_to_encode = ['Class', 'Education', 'AHRSPAY', 'Marital',\n",
    "                     'Major Industry', 'Major Occupation', 'Race',\n",
    "                     'Hispanic', 'Gender', 'ASEX', 'AUNMEM', 'AUNTYPE', \n",
    "                     'Tax Status', 'Region', 'State', 'General Status', \n",
    "                     'Other Status', 'HHDREL', 'MARSUPWT', 'MIGMTR1',\n",
    "                     'MIGMTR3', 'MIGMTR4', 'MIGSUN', 'NOEMP', 'PARENT', \n",
    "                     'PEARNVAL', 'Citizenship', 'PENATVTY' \n",
    "                    ]\n",
    "\n",
    "# Make a copy of the dataset\n",
    "data_copy = original_data.copy()\n",
    "\n",
    "# Loop through columns_to_encode and convert the columns to category codes\n",
    "for column in columns_to_encode:\n",
    "    data_copy[column] = data_copy[column].astype(\"category\").cat.codes\n",
    "\n",
    "data_copy.head()"
   ]
  },
  {
   "cell_type": "code",
   "execution_count": 8,
   "metadata": {},
   "outputs": [],
   "source": [
    "data_copy = data_copy.drop(columns='Above50K')"
   ]
  },
  {
   "cell_type": "code",
   "execution_count": 9,
   "metadata": {},
   "outputs": [
    {
     "name": "stdout",
     "output_type": "stream",
     "text": [
      "<class 'pandas.core.frame.DataFrame'>\n",
      "RangeIndex: 99762 entries, 0 to 99761\n",
      "Data columns (total 42 columns):\n",
      " #   Column            Non-Null Count  Dtype  \n",
      "---  ------            --------------  -----  \n",
      " 0   Age               99762 non-null  int64  \n",
      " 1   Class             99762 non-null  int8   \n",
      " 2   Industry          99762 non-null  int64  \n",
      " 3   Occupation        99762 non-null  int64  \n",
      " 4   Education         99762 non-null  int8   \n",
      " 5   AHGA              99762 non-null  int64  \n",
      " 6   AHRSPAY           99762 non-null  int8   \n",
      " 7   Marital           99762 non-null  int8   \n",
      " 8   Major Industry    99762 non-null  int8   \n",
      " 9   Major Occupation  99762 non-null  int8   \n",
      " 10  Race              99762 non-null  int8   \n",
      " 11  Hispanic          99762 non-null  int8   \n",
      " 12  Gender            99762 non-null  int8   \n",
      " 13  ASEX              99762 non-null  int8   \n",
      " 14  AUNMEM            99762 non-null  int8   \n",
      " 15  AUNTYPE           99762 non-null  int8   \n",
      " 16  Capital Gains     99762 non-null  int64  \n",
      " 17  Capital Loss      99762 non-null  int64  \n",
      " 18  Dividends         99762 non-null  int64  \n",
      " 19  Tax Status        99762 non-null  int8   \n",
      " 20  Region            99762 non-null  int8   \n",
      " 21  State             99762 non-null  int8   \n",
      " 22  General Status    99762 non-null  int8   \n",
      " 23  Other Status      99762 non-null  int8   \n",
      " 24  HHDFMX            99762 non-null  float64\n",
      " 25  HHDREL            99762 non-null  int8   \n",
      " 26  MARSUPWT          99762 non-null  int8   \n",
      " 27  MIGMTR1           99762 non-null  int8   \n",
      " 28  MIGMTR3           99762 non-null  int8   \n",
      " 29  MIGMTR4           99762 non-null  int8   \n",
      " 30  MIGSAME           99762 non-null  int64  \n",
      " 31  MIGSUN            99762 non-null  int8   \n",
      " 32  NOEMP             99762 non-null  int8   \n",
      " 33  PARENT            99762 non-null  int8   \n",
      " 34  PEARNVAL          99762 non-null  int8   \n",
      " 35  Citizenship       99762 non-null  int8   \n",
      " 36  PEMNTVTY          99762 non-null  int64  \n",
      " 37  PENATVTY          99762 non-null  int8   \n",
      " 38  PRCITSHP          99762 non-null  int64  \n",
      " 39  Weeks Worked      99762 non-null  int64  \n",
      " 40  Year              99762 non-null  int64  \n",
      " 41  KTarget           99762 non-null  int64  \n",
      "dtypes: float64(1), int64(13), int8(28)\n",
      "memory usage: 13.3 MB\n"
     ]
    }
   ],
   "source": [
    "data_copy.info()"
   ]
  },
  {
   "cell_type": "markdown",
   "metadata": {},
   "source": [
    "## Split the Data into Training and Testing Sets"
   ]
  },
  {
   "cell_type": "code",
   "execution_count": 10,
   "metadata": {},
   "outputs": [],
   "source": [
    "# Create the labels set `y` and features DataFrame `X`\n",
    "y = data_copy['KTarget']\n",
    "\n",
    "X = data_copy.copy()\n",
    "X = X.drop(columns='KTarget')"
   ]
  },
  {
   "cell_type": "code",
   "execution_count": 11,
   "metadata": {},
   "outputs": [
    {
     "data": {
      "text/plain": [
       "KTarget\n",
       "0    93576\n",
       "1     6186\n",
       "Name: count, dtype: int64"
      ]
     },
     "execution_count": 11,
     "metadata": {},
     "output_type": "execute_result"
    }
   ],
   "source": [
    "# Check the balance of the labels variable (`y`) by using the `value_counts` function.\n",
    "y.value_counts()"
   ]
  },
  {
   "cell_type": "code",
   "execution_count": 12,
   "metadata": {},
   "outputs": [],
   "source": [
    "# Split the data into X_train, X_test, y_train, y_test\n",
    "X_train, X_test, y_train, y_test = train_test_split(X, y)"
   ]
  },
  {
   "cell_type": "markdown",
   "metadata": {},
   "source": [
    "## Scale the Features"
   ]
  },
  {
   "cell_type": "markdown",
   "metadata": {},
   "source": [
    "Use the `StandardScaler` to scale the features data. Remember that only `X_train` and `X_test` DataFrames should be scaled."
   ]
  },
  {
   "cell_type": "code",
   "execution_count": 13,
   "metadata": {},
   "outputs": [
    {
     "name": "stdout",
     "output_type": "stream",
     "text": [
      "Scaled X_train data: [[ 1.17841165  0.45602893  0.59130483 ...  0.56588911  1.18126583\n",
      "  -0.99817064]\n",
      " [ 0.55180672  1.36177979  1.64506522 ...  0.56588911  1.18126583\n",
      "   1.00183272]\n",
      " [-0.43285818  0.45602893  0.75768805 ...  0.56588911  1.18126583\n",
      "   1.00183272]\n",
      " ...\n",
      " [ 0.23850425  0.45602893  1.09045449 ...  0.56588911  1.18126583\n",
      "   1.00183272]\n",
      " [-0.79091814  0.45602893  0.97953234 ...  0.56588911 -0.37716786\n",
      "  -0.99817064]\n",
      " [ 0.10423177 -0.44972193 -0.85068307 ...  0.56588911 -0.95132763\n",
      "   1.00183272]]\n",
      "Scaled X_train data: [[-0.1643132   0.45602893  1.478682   ...  0.56588911  1.18126583\n",
      "   1.00183272]\n",
      " [-0.96994812 -0.44972193 -0.85068307 ... -1.79231575 -0.95132763\n",
      "  -0.99817064]\n",
      " [-1.37276557 -0.44972193 -0.85068307 ... -1.79231575 -0.95132763\n",
      "   1.00183272]\n",
      " ...\n",
      " [ 1.89453157 -0.44972193 -0.85068307 ...  0.56588911 -0.95132763\n",
      "   1.00183272]\n",
      " [ 0.14898926  1.36177979 -0.12968912 ...  0.56588911  1.18126583\n",
      "   1.00183272]\n",
      " [-0.38810068  0.45602893  1.09045449 ... -0.61321332  1.18126583\n",
      "  -0.99817064]]\n"
     ]
    }
   ],
   "source": [
    "# Transforming the test dataset based on the fit from the training dataset\n",
    "X_train_scaled, X_test_scaled = p_util.scale_data_with_StandardScaler(X_train, X_test)"
   ]
  },
  {
   "cell_type": "markdown",
   "metadata": {},
   "source": [
    "## Create and Fit a Logistic Regression Model\n",
    "\n",
    "Create a Logistic Regression model, fit it to the training data, make predictions with the testing data, and print the model's accuracy score. You may choose any starting settings you like. "
   ]
  },
  {
   "cell_type": "code",
   "execution_count": 14,
   "metadata": {},
   "outputs": [
    {
     "name": "stdout",
     "output_type": "stream",
     "text": [
      "Logistic Regression Training Data Score: 0.9474211785461301\n",
      "Logistic Regression Testing Data Score: 0.9474359488392606\n",
      "Logistic Regression Predictions Accuracy Score: 0.9474359488392606\n",
      "              precision    recall  f1-score   support\n",
      "\n",
      "           1       0.71      0.26      0.38      1553\n",
      "           0       0.95      0.99      0.97     23388\n",
      "\n",
      "    accuracy                           0.95     24941\n",
      "   macro avg       0.83      0.63      0.68     24941\n",
      "weighted avg       0.94      0.95      0.94     24941\n",
      "\n",
      "Logistic Regression Balanced Accuracy Score: 0.6275092531808377\n",
      "Logistic Regression roc_auc_score: 0.92972219865586\n"
     ]
    },
    {
     "name": "stderr",
     "output_type": "stream",
     "text": [
      "C:\\Users\\kalas\\anaconda3\\Lib\\site-packages\\sklearn\\linear_model\\_logistic.py:458: ConvergenceWarning: lbfgs failed to converge (status=1):\n",
      "STOP: TOTAL NO. of ITERATIONS REACHED LIMIT.\n",
      "\n",
      "Increase the number of iterations (max_iter) or scale the data as shown in:\n",
      "    https://scikit-learn.org/stable/modules/preprocessing.html\n",
      "Please also refer to the documentation for alternative solver options:\n",
      "    https://scikit-learn.org/stable/modules/linear_model.html#logistic-regression\n",
      "  n_iter_i = _check_optimize_result(\n"
     ]
    }
   ],
   "source": [
    "# All requirements above have been coded into pipeline_utilities python program file\n",
    "\n",
    "random_state = 1\n",
    "p_util.logistic_regression_model_generator(X_train_scaled, X_test_scaled, y_train, y_test, random_state)\n"
   ]
  },
  {
   "cell_type": "markdown",
   "metadata": {},
   "source": [
    "## Create and Fit a Random Forest Classifier Model\n",
    "\n",
    "Create a Random Forest Classifier model, fit it to the training data, make predictions with the testing data, and print the model's accuracy score. You may choose any starting settings you like. "
   ]
  },
  {
   "cell_type": "code",
   "execution_count": 15,
   "metadata": {},
   "outputs": [
    {
     "name": "stdout",
     "output_type": "stream",
     "text": [
      "Random Forest Training Data Score: 1.0\n",
      "Random Forest Testing Data Score: 0.954171845555511\n",
      "Random Forest Predictions Accuracy Score: 0.954171845555511\n",
      "              precision    recall  f1-score   support\n",
      "\n",
      "           1       0.77      0.37      0.50      1553\n",
      "           0       0.96      0.99      0.98     23388\n",
      "\n",
      "    accuracy                           0.95     24941\n",
      "   macro avg       0.87      0.68      0.74     24941\n",
      "weighted avg       0.95      0.95      0.95     24941\n",
      "\n",
      "Random Forest Balanced Accuracy Score: 0.6831010085358659\n",
      "[(0.09239906963881157, 'Dividends'), (0.09227470086776152, 'Age'), (0.09105557707209763, 'Occupation'), (0.08789696383758598, 'HHDFMX'), (0.08771592311103271, 'Capital Gains'), (0.052904446841888664, 'Industry'), (0.048350757650258355, 'Education'), (0.04116697347035583, 'MIGSAME'), (0.03964275403793694, 'Weeks Worked'), (0.03761638659715492, 'Major Industry')]\n"
     ]
    }
   ],
   "source": [
    "# All details have been coded into pipeline_utilities python program file\n",
    "\n",
    "random_state = 1\n",
    "n_estimators = 100\n",
    "p_util.random_forest_model_generator(X_train_scaled, X_test_scaled, y_train, y_test, random_state, n_estimators, X.columns)\n"
   ]
  },
  {
   "cell_type": "markdown",
   "metadata": {},
   "source": [
    "## Create and Fit an SVM Model\n",
    "\n",
    "Create a Support Vector Machine model, fit it to the training data, make predictions with the testing data, and print the model's accuracy score. "
   ]
  },
  {
   "cell_type": "code",
   "execution_count": 16,
   "metadata": {},
   "outputs": [
    {
     "name": "stdout",
     "output_type": "stream",
     "text": [
      "SVM Training Data Score: 0.9442803490998517\n",
      "SVM Testing Data Score: 0.9429453510284271\n",
      "SVM Predictions Accuracy Score: 0.9429453510284271\n",
      "              precision    recall  f1-score   support\n",
      "\n",
      "           1       0.88      0.10      0.18      1553\n",
      "           0       0.94      1.00      0.97     23388\n",
      "\n",
      "    accuracy                           0.94     24941\n",
      "   macro avg       0.91      0.55      0.57     24941\n",
      "weighted avg       0.94      0.94      0.92     24941\n",
      "\n",
      "SVM Balanced Accuracy Score: 0.5481666345645247\n"
     ]
    },
    {
     "ename": "AttributeError",
     "evalue": "predict_proba is not available when  probability=False",
     "output_type": "error",
     "traceback": [
      "\u001b[1;31m---------------------------------------------------------------------------\u001b[0m",
      "\u001b[1;31mAttributeError\u001b[0m                            Traceback (most recent call last)",
      "Cell \u001b[1;32mIn[16], line 4\u001b[0m\n\u001b[0;32m      1\u001b[0m \u001b[38;5;66;03m# All details have been coded into pipeline_utilities python program file\u001b[39;00m\n\u001b[0;32m      3\u001b[0m kernel_type \u001b[38;5;241m=\u001b[39m \u001b[38;5;124m'\u001b[39m\u001b[38;5;124mlinear\u001b[39m\u001b[38;5;124m'\u001b[39m\n\u001b[1;32m----> 4\u001b[0m p_util\u001b[38;5;241m.\u001b[39msvm_model_generator(X_train_scaled, X_test_scaled, y_train, y_test, kernel_type)\n",
      "File \u001b[1;32m~\\OneDrive\\Documents\\AI_Bootcamp\\Project2\\Project_2_Lab_of_Plotters\\pipeline_utilities.py:122\u001b[0m, in \u001b[0;36msvm_model_generator\u001b[1;34m(X_train, X_test, y_train, y_test, m_type)\u001b[0m\n\u001b[0;32m    119\u001b[0m display_accuracy_scores(\u001b[38;5;124m\"\u001b[39m\u001b[38;5;124mSVM\u001b[39m\u001b[38;5;124m\"\u001b[39m, y_test, predictions)\n\u001b[0;32m    121\u001b[0m \u001b[38;5;66;03m# Print roc_auc_score\u001b[39;00m\n\u001b[1;32m--> 122\u001b[0m pred_probas \u001b[38;5;241m=\u001b[39m model\u001b[38;5;241m.\u001b[39mpredict_proba(X_train)\n\u001b[0;32m    123\u001b[0m pred_probas_firsts \u001b[38;5;241m=\u001b[39m [prob[\u001b[38;5;241m1\u001b[39m] \u001b[38;5;28;01mfor\u001b[39;00m prob \u001b[38;5;129;01min\u001b[39;00m pred_probas]\n\u001b[0;32m    124\u001b[0m \u001b[38;5;28mprint\u001b[39m(\u001b[38;5;124mf\u001b[39m\u001b[38;5;124m\"\u001b[39m\u001b[38;5;124mSVM roc_auc_score: \u001b[39m\u001b[38;5;132;01m{\u001b[39;00mroc_auc_score(y_train,\u001b[38;5;250m \u001b[39mpred_probas_firsts)\u001b[38;5;132;01m}\u001b[39;00m\u001b[38;5;124m\"\u001b[39m)\n",
      "File \u001b[1;32m~\\anaconda3\\Lib\\site-packages\\sklearn\\utils\\_available_if.py:32\u001b[0m, in \u001b[0;36m_AvailableIfDescriptor.__get__\u001b[1;34m(self, obj, owner)\u001b[0m\n\u001b[0;32m     26\u001b[0m attr_err \u001b[38;5;241m=\u001b[39m \u001b[38;5;167;01mAttributeError\u001b[39;00m(\n\u001b[0;32m     27\u001b[0m     \u001b[38;5;124mf\u001b[39m\u001b[38;5;124m\"\u001b[39m\u001b[38;5;124mThis \u001b[39m\u001b[38;5;132;01m{\u001b[39;00m\u001b[38;5;28mrepr\u001b[39m(owner\u001b[38;5;241m.\u001b[39m\u001b[38;5;18m__name__\u001b[39m)\u001b[38;5;132;01m}\u001b[39;00m\u001b[38;5;124m has no attribute \u001b[39m\u001b[38;5;132;01m{\u001b[39;00m\u001b[38;5;28mrepr\u001b[39m(\u001b[38;5;28mself\u001b[39m\u001b[38;5;241m.\u001b[39mattribute_name)\u001b[38;5;132;01m}\u001b[39;00m\u001b[38;5;124m\"\u001b[39m\n\u001b[0;32m     28\u001b[0m )\n\u001b[0;32m     29\u001b[0m \u001b[38;5;28;01mif\u001b[39;00m obj \u001b[38;5;129;01mis\u001b[39;00m \u001b[38;5;129;01mnot\u001b[39;00m \u001b[38;5;28;01mNone\u001b[39;00m:\n\u001b[0;32m     30\u001b[0m     \u001b[38;5;66;03m# delegate only on instances, not the classes.\u001b[39;00m\n\u001b[0;32m     31\u001b[0m     \u001b[38;5;66;03m# this is to allow access to the docstrings.\u001b[39;00m\n\u001b[1;32m---> 32\u001b[0m     \u001b[38;5;28;01mif\u001b[39;00m \u001b[38;5;129;01mnot\u001b[39;00m \u001b[38;5;28mself\u001b[39m\u001b[38;5;241m.\u001b[39mcheck(obj):\n\u001b[0;32m     33\u001b[0m         \u001b[38;5;28;01mraise\u001b[39;00m attr_err\n\u001b[0;32m     34\u001b[0m     out \u001b[38;5;241m=\u001b[39m MethodType(\u001b[38;5;28mself\u001b[39m\u001b[38;5;241m.\u001b[39mfn, obj)\n",
      "File \u001b[1;32m~\\anaconda3\\Lib\\site-packages\\sklearn\\svm\\_base.py:829\u001b[0m, in \u001b[0;36mBaseSVC._check_proba\u001b[1;34m(self)\u001b[0m\n\u001b[0;32m    827\u001b[0m \u001b[38;5;28;01mdef\u001b[39;00m \u001b[38;5;21m_check_proba\u001b[39m(\u001b[38;5;28mself\u001b[39m):\n\u001b[0;32m    828\u001b[0m     \u001b[38;5;28;01mif\u001b[39;00m \u001b[38;5;129;01mnot\u001b[39;00m \u001b[38;5;28mself\u001b[39m\u001b[38;5;241m.\u001b[39mprobability:\n\u001b[1;32m--> 829\u001b[0m         \u001b[38;5;28;01mraise\u001b[39;00m \u001b[38;5;167;01mAttributeError\u001b[39;00m(\n\u001b[0;32m    830\u001b[0m             \u001b[38;5;124m\"\u001b[39m\u001b[38;5;124mpredict_proba is not available when  probability=False\u001b[39m\u001b[38;5;124m\"\u001b[39m\n\u001b[0;32m    831\u001b[0m         )\n\u001b[0;32m    832\u001b[0m     \u001b[38;5;28;01mif\u001b[39;00m \u001b[38;5;28mself\u001b[39m\u001b[38;5;241m.\u001b[39m_impl \u001b[38;5;129;01mnot\u001b[39;00m \u001b[38;5;129;01min\u001b[39;00m (\u001b[38;5;124m\"\u001b[39m\u001b[38;5;124mc_svc\u001b[39m\u001b[38;5;124m\"\u001b[39m, \u001b[38;5;124m\"\u001b[39m\u001b[38;5;124mnu_svc\u001b[39m\u001b[38;5;124m\"\u001b[39m):\n\u001b[0;32m    833\u001b[0m         \u001b[38;5;28;01mraise\u001b[39;00m \u001b[38;5;167;01mAttributeError\u001b[39;00m(\u001b[38;5;124m\"\u001b[39m\u001b[38;5;124mpredict_proba only implemented for SVC and NuSVC\u001b[39m\u001b[38;5;124m\"\u001b[39m)\n",
      "\u001b[1;31mAttributeError\u001b[0m: predict_proba is not available when  probability=False"
     ]
    }
   ],
   "source": [
    "# All details have been coded into pipeline_utilities python program file\n",
    "\n",
    "kernel_type = 'linear'\n",
    "p_util.svm_model_generator(X_train_scaled, X_test_scaled, y_train, y_test, kernel_type)\n"
   ]
  },
  {
   "cell_type": "markdown",
   "metadata": {},
   "source": [
    "## Evaluate the Models\n",
    "\n",
    "Which model performed better? How does that compare to your prediction? Write down your results and thoughts in the following markdown cell."
   ]
  },
  {
   "cell_type": "markdown",
   "metadata": {},
   "source": [
    "* Both models had over 90% accuracy score, indicating that both models performed reasonably well, but the Random Forest model performed better than the Logistic Regression model by 2 percentage points. The Random Forest model achieved an accuracy of 95.22% with testing data and predictions while the Logistic Regression model achieved a score of 93.22%.\n",
    "* My prediction that Logistic Regression model would perform better was incorrect!"
   ]
  },
  {
   "cell_type": "code",
   "execution_count": null,
   "metadata": {},
   "outputs": [],
   "source": []
  }
 ],
 "metadata": {
  "kernelspec": {
   "display_name": "Python 3 (ipykernel)",
   "language": "python",
   "name": "python3"
  },
  "language_info": {
   "codemirror_mode": {
    "name": "ipython",
    "version": 3
   },
   "file_extension": ".py",
   "mimetype": "text/x-python",
   "name": "python",
   "nbconvert_exporter": "python",
   "pygments_lexer": "ipython3",
   "version": "3.11.7"
  }
 },
 "nbformat": 4,
 "nbformat_minor": 4
}
